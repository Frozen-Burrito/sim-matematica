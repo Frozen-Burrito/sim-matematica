{
 "cells": [
  {
   "cell_type": "markdown",
   "metadata": {},
   "source": [
    "# Análisis Exploratorio de Datos\n",
    "Nanoparticle electronic structure\n",
    "\n",
    "Fecha: 25 de febrero de 2025\n",
    "\n",
    "Integrantes:\n",
    "* Fernando Mendoza Velasco\n",
    "* Mónica Lizette Cardona Solís\n",
    "* Marianna Montserrat Curiel Zambrano"
   ]
  },
  {
   "cell_type": "markdown",
   "metadata": {},
   "source": [
    "# Descripción del dataset\n",
    "Se presenta un conjunto de datos proveniente de investigaciones y estudios experimentales en nanotecnología y ciencia de materiales. Estos se utilizan para analizar las propiedades de los átomos, sus estructuras afectany sus afectaciones a diversas propiedades físicas y químicas."
   ]
  },
  {
   "cell_type": "markdown",
   "metadata": {},
   "source": [
    "# Descripción de las variables\n",
    "- atom_count: Cantidad de átomos en la estructura o molécula. Tipo de dato: Entero.\n",
    "- structure_type: Tipo de estructura del átomo o material. Tipo de dato: String.\n",
    "- atomic_number: Número atómico del elemento químico. Tipo de dato: Entero.\n",
    "- electronegativity: Medida de la tendencia de un átomo a atraer electrones en un enlace químico. Tipo de dato: Flotante.\n",
    "- atomic_radius: Medida del radio atómico. Tipo de dato: Flotante.\n",
    "- melting_point: Punto de fusión del material. Tipo de dato: Flotante.\n",
    "- dos_pcn: Densidades de estados (n = 1, 2,...,50). Tipo de dato: Flotante.\n",
    "- target_property: Propiedad objetivo que se busca predecir. Tipo de dato: Flotante."
   ]
  },
  {
   "cell_type": "code",
   "execution_count": 1,
   "metadata": {},
   "outputs": [],
   "source": [
    "import pandas as pd\n",
    "import matplotlib.pyplot as plt"
   ]
  }
 ],
 "metadata": {
  "kernelspec": {
   "display_name": ".venv",
   "language": "python",
   "name": "python3"
  },
  "language_info": {
   "codemirror_mode": {
    "name": "ipython",
    "version": 3
   },
   "file_extension": ".py",
   "mimetype": "text/x-python",
   "name": "python",
   "nbconvert_exporter": "python",
   "pygments_lexer": "ipython3",
   "version": "3.12.1"
  }
 },
 "nbformat": 4,
 "nbformat_minor": 2
}
