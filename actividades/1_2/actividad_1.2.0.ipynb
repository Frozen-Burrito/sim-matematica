{
 "cells": [
  {
   "cell_type": "markdown",
   "metadata": {},
   "source": [
    "# Sección 1: 1.2.1 Tipos Variables"
   ]
  },
  {
   "cell_type": "markdown",
   "id": "58a1e6b1",
   "metadata": {},
   "source": [
    "Autor: **Fernando Mendoza Velasco**\n",
    "\n",
    "Fecha de la actividad: **28 de enero del 2025** "
   ]
  },
  {
   "cell_type": "markdown",
   "metadata": {},
   "source": [
    "# Tipos de Variables\n",
    "En este cuaderno aprenderás sobre los principales tipos de variables en Python, sus características, y cómo utilizarlas. Cada sección contiene ejemplos prácticos y una actividad al final para reforzar lo aprendido. ¡Comencemos!"
   ]
  },
  {
   "cell_type": "markdown",
   "metadata": {},
   "source": [
    "## 1. Variables de tipo entero (int)\n",
    "Las variables enteras almacenan números enteros, positivos o negativos, sin decimales. En Python, solo necesitas asignar un valor a una variable para declararla como entero."
   ]
  },
  {
   "cell_type": "code",
   "execution_count": 1,
   "metadata": {},
   "outputs": [
    {
     "name": "stdout",
     "output_type": "stream",
     "text": [
      "El número positivo es: 10\n"
     ]
    }
   ],
   "source": [
    "# Ejemplo 1\n",
    "numero_positivo = 10\n",
    "print(f'El número positivo es: {numero_positivo}')"
   ]
  },
  {
   "cell_type": "code",
   "execution_count": 2,
   "metadata": {},
   "outputs": [
    {
     "name": "stdout",
     "output_type": "stream",
     "text": [
      "El número negativo es: -25\n"
     ]
    }
   ],
   "source": [
    "# Ejemplo 2\n",
    "numero_negativo = -25\n",
    "print(f'El número negativo es: {numero_negativo}')"
   ]
  },
  {
   "cell_type": "code",
   "execution_count": 3,
   "metadata": {},
   "outputs": [
    {
     "name": "stdout",
     "output_type": "stream",
     "text": [
      "La suma de los números es: -15\n"
     ]
    }
   ],
   "source": [
    "# Ejemplo 3\n",
    "suma_enteros = numero_positivo + numero_negativo\n",
    "print(f'La suma de los números es: {suma_enteros}')"
   ]
  },
  {
   "cell_type": "code",
   "execution_count": 4,
   "metadata": {},
   "outputs": [
    {
     "name": "stdout",
     "output_type": "stream",
     "text": [
      "El resultado de la multiplicación es: 20\n"
     ]
    }
   ],
   "source": [
    "# Ejemplo 4\n",
    "multiplicacion_enteros = numero_positivo * 2\n",
    "print(f'El resultado de la multiplicación es: {multiplicacion_enteros}')"
   ]
  },
  {
   "cell_type": "markdown",
   "metadata": {},
   "source": [
    "### Actividad 1: Variables enteras\n",
    "Declara dos variables enteras llamadas `mi_entero1` y `mi_entero2`. Asigna valores a cada una y realiza una suma entre ellas. Guarda el resultado en una variable llamada `resultado_suma`."
   ]
  },
  {
   "cell_type": "code",
   "execution_count": 5,
   "metadata": {},
   "outputs": [
    {
     "data": {
      "text/plain": [
       "4105"
      ]
     },
     "execution_count": 5,
     "metadata": {},
     "output_type": "execute_result"
    }
   ],
   "source": [
    "mi_entero1 = 9\n",
    "mi_entero2 = 4096\n",
    "\n",
    "# El valor de la variable resultado_suma debe ser la suma de los dos enteros.\n",
    "resultado_suma = mi_entero1 + mi_entero2\n",
    "resultado_suma"
   ]
  },
  {
   "cell_type": "markdown",
   "metadata": {},
   "source": [
    "## 2. Variables de tipo flotante (float)\n",
    "Las variables flotantes almacenan números con decimales. Son útiles cuando necesitas trabajar con valores más precisos."
   ]
  },
  {
   "cell_type": "code",
   "execution_count": 6,
   "metadata": {},
   "outputs": [
    {
     "name": "stdout",
     "output_type": "stream",
     "text": [
      "El número decimal es: 3.14\n"
     ]
    }
   ],
   "source": [
    "# Ejemplo 1\n",
    "numero_decimal = 3.14\n",
    "print(f'El número decimal es: {numero_decimal}')"
   ]
  },
  {
   "cell_type": "code",
   "execution_count": 7,
   "metadata": {},
   "outputs": [
    {
     "name": "stdout",
     "output_type": "stream",
     "text": [
      "La suma de decimales es: 6.0\n"
     ]
    }
   ],
   "source": [
    "# Ejemplo 2\n",
    "suma_decimales = numero_decimal + 2.86\n",
    "print(f'La suma de decimales es: {suma_decimales}')"
   ]
  },
  {
   "cell_type": "code",
   "execution_count": 8,
   "metadata": {},
   "outputs": [
    {
     "name": "stdout",
     "output_type": "stream",
     "text": [
      "La división da como resultado: 1.57\n"
     ]
    }
   ],
   "source": [
    "# Ejemplo 3 - división flotante, produce un número flotante sin redondear el resultado\n",
    "division_decimales = numero_decimal / 2\n",
    "print(f'La división da como resultado: {division_decimales}')"
   ]
  },
  {
   "cell_type": "code",
   "execution_count": 9,
   "metadata": {},
   "outputs": [
    {
     "name": "stdout",
     "output_type": "stream",
     "text": [
      "El resultado de la multiplicación es: 15.700000000000001\n"
     ]
    }
   ],
   "source": [
    "# Ejemplo 4 - multiplicación de flotante por entero, produce flotante\n",
    "multiplicacion_decimales = numero_decimal * 5\n",
    "print(f'El resultado de la multiplicación es: {multiplicacion_decimales}')"
   ]
  },
  {
   "cell_type": "markdown",
   "metadata": {},
   "source": [
    "### Actividad 2: Variables flotantes\n",
    "Declara dos variables flotantes llamadas `mi_decimal1` y `mi_decimal2`. Asigna valores a cada una y realiza una multiplicación entre ellas. Guarda el resultado en una variable llamada `resultado_multiplicacion`."
   ]
  },
  {
   "cell_type": "code",
   "execution_count": 10,
   "metadata": {},
   "outputs": [],
   "source": [
    "mi_decimal1 = 2.76\n",
    "mi_decimal2 = 9.99\n",
    "\n",
    "# El resultado de la multiplicacion debe ser el producto de los dos decimales.\n",
    "resultado_multiplicacion = mi_decimal1 * mi_decimal2"
   ]
  },
  {
   "cell_type": "markdown",
   "metadata": {},
   "source": [
    "## Evaluación Final\n",
    "En esta celda, se evaluarán tus respuestas a las actividades mediante pruebas unitarias simples. Ejecuta esta celda para verificar si tus resultados son correctos."
   ]
  },
  {
   "cell_type": "code",
   "execution_count": 11,
   "metadata": {},
   "outputs": [
    {
     "name": "stderr",
     "output_type": "stream",
     "text": [
      "..\n",
      "----------------------------------------------------------------------\n",
      "Ran 2 tests in 0.006s\n",
      "\n",
      "OK\n"
     ]
    },
    {
     "data": {
      "text/plain": [
       "<unittest.main.TestProgram at 0x109480710>"
      ]
     },
     "execution_count": 11,
     "metadata": {},
     "output_type": "execute_result"
    }
   ],
   "source": [
    "import unittest\n",
    "\n",
    "class TestVariables(unittest.TestCase):\n",
    "    def test_actividad1(self):\n",
    "        self.assertEqual(resultado_suma, mi_entero1 + mi_entero2, 'Error en la actividad 1')\n",
    "\n",
    "    def test_actividad2(self):\n",
    "        self.assertEqual(resultado_multiplicacion, mi_decimal1 * mi_decimal2, 'Error en la actividad 2')\n",
    "\n",
    "unittest.main(argv=[''], exit=False)"
   ]
  },
  {
   "cell_type": "markdown",
   "metadata": {},
   "source": [
    "# Sección 2: 1.2.2 Cualitativas Cuantitativas"
   ]
  },
  {
   "cell_type": "markdown",
   "id": "a90766f9",
   "metadata": {},
   "source": [
    "# Variables Cualitativas y Cuantitativas\n",
    "En este cuaderno aprenderás sobre los principales tipos de variables: cualitativas y cuantitativas. Exploraremos sus características, ejemplos, y cómo trabajar con ellas en Python. Cada sección contiene ejemplos prácticos y una actividad al final para reforzar lo aprendido. ¡Comencemos!"
   ]
  },
  {
   "cell_type": "markdown",
   "id": "cc3a7486",
   "metadata": {},
   "source": [
    "## 1. Variables Cualitativas\n",
    "Las variables cualitativas describen cualidades o categorías. No se expresan en números, sino en palabras o etiquetas.\n",
    "Por ejemplo, el color de un objeto, el estado civil o el género."
   ]
  },
  {
   "cell_type": "code",
   "execution_count": 12,
   "id": "8244ae95",
   "metadata": {},
   "outputs": [
    {
     "name": "stdout",
     "output_type": "stream",
     "text": [
      "Mi color favorito es: azul\n"
     ]
    }
   ],
   "source": [
    "# Ejemplo 1\n",
    "color_favorito = 'azul'\n",
    "print(f'Mi color favorito es: {color_favorito}')"
   ]
  },
  {
   "cell_type": "code",
   "execution_count": 13,
   "id": "ecd97326",
   "metadata": {},
   "outputs": [
    {
     "name": "stdout",
     "output_type": "stream",
     "text": [
      "El estado civil es: soltero\n"
     ]
    }
   ],
   "source": [
    "# Ejemplo 2\n",
    "estado_civil = 'soltero'\n",
    "print(f'El estado civil es: {estado_civil}')"
   ]
  },
  {
   "cell_type": "code",
   "execution_count": 14,
   "id": "cd7e64b6",
   "metadata": {},
   "outputs": [
    {
     "name": "stdout",
     "output_type": "stream",
     "text": [
      "El género es: femenino\n"
     ]
    }
   ],
   "source": [
    "# Ejemplo 3\n",
    "genero = 'femenino'\n",
    "print(f'El género es: {genero}')"
   ]
  },
  {
   "cell_type": "code",
   "execution_count": 15,
   "id": "cf67b130",
   "metadata": {},
   "outputs": [
    {
     "name": "stdout",
     "output_type": "stream",
     "text": [
      "El tipo de vehículo es: sedán\n"
     ]
    }
   ],
   "source": [
    "# Ejemplo 4\n",
    "tipo_vehiculo = 'sedán'\n",
    "print(f'El tipo de vehículo es: {tipo_vehiculo}')"
   ]
  },
  {
   "cell_type": "markdown",
   "id": "7178d4c7",
   "metadata": {},
   "source": [
    "### Actividad 1: Variables Cualitativas\n",
    "Declara tres variables cualitativas: `comida_favorita`, `pais_natal`, y `hobby`. Asigna valores a cada una y luego imprime una frase que las combine."
   ]
  },
  {
   "cell_type": "code",
   "execution_count": 16,
   "id": "c235300e",
   "metadata": {},
   "outputs": [
    {
     "name": "stdout",
     "output_type": "stream",
     "text": [
      "Mi comida favorita es galletas, nací en México y me gusta leer.\n"
     ]
    }
   ],
   "source": [
    "comida_favorita = \"galletas\"\n",
    "pais_natal = \"México\"\n",
    "hobby = \"leer\"\n",
    "\n",
    "# Usa un f-string para combinar los valores de las variables cualitiativas en un formato mas legible.\n",
    "print(f\"Mi comida favorita es {comida_favorita}, nací en {pais_natal} y me gusta {hobby}.\")"
   ]
  },
  {
   "cell_type": "markdown",
   "id": "17db67c9",
   "metadata": {},
   "source": [
    "## 2. Variables Cuantitativas\n",
    "Las variables cuantitativas representan cantidades y se expresan en números. Pueden ser discretas (valores enteros) o continuas (valores decimales)."
   ]
  },
  {
   "cell_type": "code",
   "execution_count": 17,
   "id": "f52fc357",
   "metadata": {},
   "outputs": [
    {
     "name": "stdout",
     "output_type": "stream",
     "text": [
      "Tengo 21 años\n"
     ]
    }
   ],
   "source": [
    "# Ejemplo 1\n",
    "edad = 21\n",
    "print(f'Tengo {edad} años')"
   ]
  },
  {
   "cell_type": "code",
   "execution_count": 18,
   "id": "02abdc48",
   "metadata": {},
   "outputs": [
    {
     "name": "stdout",
     "output_type": "stream",
     "text": [
      "Mi altura es: 1.79 metros\n"
     ]
    }
   ],
   "source": [
    "# Ejemplo 2\n",
    "altura = 1.79\n",
    "print(f'Mi altura es: {altura} metros')"
   ]
  },
  {
   "cell_type": "code",
   "execution_count": 19,
   "id": "a21e1e85",
   "metadata": {},
   "outputs": [
    {
     "name": "stdout",
     "output_type": "stream",
     "text": [
      "Tengo 1 hermano(s)\n"
     ]
    }
   ],
   "source": [
    "# Ejemplo 3\n",
    "hermanos = 1\n",
    "print(f'Tengo {hermanos} hermano(s)')"
   ]
  },
  {
   "cell_type": "code",
   "execution_count": 20,
   "id": "ee73bb7a",
   "metadata": {},
   "outputs": [
    {
     "name": "stdout",
     "output_type": "stream",
     "text": [
      "Mi peso es: 63.4 kilogramos\n"
     ]
    }
   ],
   "source": [
    "# Ejemplo 4\n",
    "peso = 63.4\n",
    "print(f'Mi peso es: {peso} kilogramos')"
   ]
  },
  {
   "cell_type": "markdown",
   "id": "8db45d8e",
   "metadata": {},
   "source": [
    "### Actividad 2: Variables Cuantitativas\n",
    "Declara dos variables cuantitativas: `numero_libros` y `horas_lectura`. Calcula cuántos libros puedes leer si dedicas una hora diaria y guardas el resultado en `libros_leidos`. Imprime el resultado."
   ]
  },
  {
   "cell_type": "code",
   "execution_count": 21,
   "id": "a4a89046",
   "metadata": {},
   "outputs": [],
   "source": [
    "numero_libros = 10\n",
    "horas_lectura = 8\n",
    "\n",
    "# Calcula los libros leidos por dia, multiplicando el numero de libros por dia por las horas de lectura por dia.\n",
    "libros_leidos = numero_libros * horas_lectura"
   ]
  },
  {
   "cell_type": "markdown",
   "id": "faf7a28e",
   "metadata": {},
   "source": [
    "Calcular cuántos libros puede leer una persona en un año según `horas_lectura_por_dia`, el número de horas por día de lectura. Supone que el número de libros leídos por hora `libros_por_hora` es 0.2. "
   ]
  },
  {
   "cell_type": "code",
   "execution_count": 22,
   "id": "bbfffebe",
   "metadata": {},
   "outputs": [
    {
     "name": "stdout",
     "output_type": "stream",
     "text": [
      "A ese ritmo, puedes leer 109.5 libros en un año.\n"
     ]
    }
   ],
   "source": [
    "horas_lectura_por_dia = 1.5\n",
    "libros_por_hora = 0.2\n",
    "\n",
    "libros_leidos_en_365_dias = 365 * horas_lectura_por_dia * libros_por_hora\n",
    "print(f\"A ese ritmo, puedes leer {libros_leidos_en_365_dias} libros en un año.\")"
   ]
  },
  {
   "cell_type": "markdown",
   "id": "9e78eb4b",
   "metadata": {},
   "source": [
    "## Evaluación Final\n",
    "En esta celda, se evaluarán tus respuestas a las actividades mediante pruebas unitarias simples. Ejecuta esta celda para verificar si tus resultados son correctos."
   ]
  },
  {
   "cell_type": "code",
   "execution_count": 23,
   "id": "30071376",
   "metadata": {},
   "outputs": [
    {
     "name": "stderr",
     "output_type": "stream",
     "text": [
      "..\n",
      "----------------------------------------------------------------------\n",
      "Ran 2 tests in 0.005s\n",
      "\n",
      "OK\n"
     ]
    },
    {
     "data": {
      "text/plain": [
       "<unittest.main.TestProgram at 0x1094b4e90>"
      ]
     },
     "execution_count": 23,
     "metadata": {},
     "output_type": "execute_result"
    }
   ],
   "source": [
    "import unittest\n",
    "\n",
    "class TestVariables(unittest.TestCase):\n",
    "    def test_actividad1(self):\n",
    "        self.assertIsInstance(comida_favorita, str, 'Error en la actividad 1: comida_favorita no es una cadena')\n",
    "        self.assertIsInstance(pais_natal, str, 'Error en la actividad 1: pais_natal no es una cadena')\n",
    "        self.assertIsInstance(hobby, str, 'Error en la actividad 1: hobby no es una cadena')\n",
    "\n",
    "    def test_actividad2(self):\n",
    "        self.assertEqual(libros_leidos, numero_libros * horas_lectura, 'Error en la actividad 2. Tus variables no son cuantitativas!')\n",
    "\n",
    "unittest.main(argv=[''], exit=False)"
   ]
  },
  {
   "cell_type": "markdown",
   "metadata": {},
   "source": [
    "# Sección 3: 1.2.3 Operadores"
   ]
  },
  {
   "cell_type": "markdown",
   "metadata": {},
   "source": [
    "# Repaso de Operadores en Python\n",
    "En este cuaderno, exploraremos los diferentes tipos de operadores en Python con ejemplos y actividades prácticas. Los operadores nos permiten realizar operaciones matemáticas, comparaciones, y manipulaciones lógicas y de bits.\n",
    "\n",
    "Duración estimada: 1 hora\n",
    "\n",
    "## Contenidos:\n",
    "1. Operadores Aritméticos\n",
    "2. Operadores de Comparación\n",
    "3. Operadores Lógicos\n",
    "4. Operadores de Asignación\n",
    "5. Operadores de Bits\n",
    "6. Actividad de Integración\n"
   ]
  },
  {
   "cell_type": "markdown",
   "metadata": {},
   "source": [
    "## 1. Operadores Aritméticos\n",
    "Los operadores aritméticos se utilizan para realizar operaciones matemáticas básicas como suma, resta, multiplicación y división.\n",
    "\n",
    "### Operadores comunes:\n",
    "- `+` Suma\n",
    "- `-` Resta\n",
    "- `*` Multiplicación\n",
    "- `/` División\n",
    "- `%` Módulo\n",
    "- `**` Exponenciación\n",
    "- `//` División entera"
   ]
  },
  {
   "cell_type": "code",
   "execution_count": 24,
   "metadata": {},
   "outputs": [
    {
     "name": "stdout",
     "output_type": "stream",
     "text": [
      "Suma: 13\n",
      "Resta: 7\n",
      "Multiplicación: 30\n",
      "División: 3.3333333333333335\n",
      "Módulo: 1\n",
      "Exponenciación: 1000\n",
      "División entera: 3\n"
     ]
    }
   ],
   "source": [
    "# Ejemplo: Operadores aritméticos\n",
    "a = 10\n",
    "b = 3\n",
    "print(f'Suma: {a + b}')\n",
    "print(f'Resta: {a - b}')\n",
    "print(f'Multiplicación: {a * b}')\n",
    "print(f'División: {a / b}')\n",
    "print(f'Módulo: {a % b}')\n",
    "print(f'Exponenciación: {a ** b}')\n",
    "print(f'División entera: {a // b}')"
   ]
  },
  {
   "cell_type": "markdown",
   "metadata": {},
   "source": [
    "### Actividad 1: Operadores Aritméticos\n",
    "Dado `x = 15` y `y = 4`, realiza las siguientes operaciones:\n",
    "1. Calcula el residuo de `x` dividido entre `y`. Guarda el resultado en una variable llamada `residuo` e imprime.\n",
    "2. Calcula `x` elevado a la potencia de `y`. Guarda el resultado en una variable llamada `potencia` e imprime.\n",
    "3. Calcula la división entera de `x` entre `y`. Guarda el resultado en una variable llamada `division_entera` e imprime."
   ]
  },
  {
   "cell_type": "code",
   "execution_count": 25,
   "metadata": {},
   "outputs": [],
   "source": [
    "x = 15\n",
    "y = 4"
   ]
  },
  {
   "cell_type": "code",
   "execution_count": 26,
   "id": "026b24c8",
   "metadata": {},
   "outputs": [
    {
     "name": "stdout",
     "output_type": "stream",
     "text": [
      "3\n"
     ]
    }
   ],
   "source": [
    "# Residuo\n",
    "residuo = x % y\n",
    "print(residuo)"
   ]
  },
  {
   "cell_type": "code",
   "execution_count": 27,
   "id": "8b5c3557",
   "metadata": {},
   "outputs": [
    {
     "name": "stdout",
     "output_type": "stream",
     "text": [
      "50625\n"
     ]
    }
   ],
   "source": [
    "# Potencia\n",
    "potencia = x ** y\n",
    "print(potencia)"
   ]
  },
  {
   "cell_type": "code",
   "execution_count": 28,
   "id": "dee2af61",
   "metadata": {},
   "outputs": [
    {
     "name": "stdout",
     "output_type": "stream",
     "text": [
      "3\n"
     ]
    }
   ],
   "source": [
    "# Division entera\n",
    "division_entera = x // y\n",
    "print(division_entera)"
   ]
  },
  {
   "cell_type": "markdown",
   "metadata": {},
   "source": [
    "## 2. Operadores de Comparación\n",
    "Los operadores de comparación se utilizan para comparar valores y devuelven un valor booleano (`True` o `False`).\n",
    "\n",
    "### Operadores comunes:\n",
    "- `==` Igual a\n",
    "- `!=` Diferente de\n",
    "- `>` Mayor que\n",
    "- `<` Menor que\n",
    "- `>=` Mayor o igual que\n",
    "- `<=` Menor o igual que"
   ]
  },
  {
   "cell_type": "code",
   "execution_count": 29,
   "metadata": {},
   "outputs": [
    {
     "name": "stdout",
     "output_type": "stream",
     "text": [
      "¿a es igual a b? False\n",
      "¿a es diferente de b? True\n",
      "¿a es mayor que b? False\n",
      "¿a es menor o igual que b? True\n"
     ]
    }
   ],
   "source": [
    "# Ejemplo: Operadores de comparación\n",
    "a = 10\n",
    "b = 20\n",
    "print(f'¿a es igual a b? {a == b}')\n",
    "print(f'¿a es diferente de b? {a != b}')\n",
    "print(f'¿a es mayor que b? {a > b}')\n",
    "print(f'¿a es menor o igual que b? {a <= b}')"
   ]
  },
  {
   "cell_type": "markdown",
   "metadata": {},
   "source": [
    "### Actividad 2: Operadores de Comparación\n",
    "Dado `a = 50` y `b = 25`, responde con comentarios:\n",
    "1. ¿`a` es mayor que `b`?\n",
    "2. ¿`a` es igual a `b`?\n",
    "3. ¿`b` es menor o igual que `a`?"
   ]
  },
  {
   "cell_type": "code",
   "execution_count": 30,
   "metadata": {},
   "outputs": [],
   "source": [
    "a = 50\n",
    "b = 25"
   ]
  },
  {
   "cell_type": "code",
   "execution_count": 31,
   "id": "0ddd648a",
   "metadata": {},
   "outputs": [
    {
     "name": "stdout",
     "output_type": "stream",
     "text": [
      "¿a es mayor que b? Sí\n",
      "¿a es igual que b? No\n",
      "¿a es menor o igual que b? No\n"
     ]
    }
   ],
   "source": [
    "print(f\"¿a es mayor que b? {'Sí' if a > b else 'No' }\")\n",
    "print(f\"¿a es igual que b? {'Sí' if a == b else 'No' }\")\n",
    "print(f\"¿a es menor o igual que b? {'Sí' if a <= b else 'No' }\")"
   ]
  },
  {
   "cell_type": "markdown",
   "id": "2180093c",
   "metadata": {},
   "source": [
    "## 3. Operadores de lógicos\n",
    "Los operadores lógicos combinan valores booleanos (`True` o `False`) y producen otros valores booleanos. Sirven para evluar si se sumplen condiciones específicas.\n",
    "\n",
    "### Operadores comunes:\n",
    "- `!` o `not` Negación\n",
    "- `&&` o `and` And lógico, `True` si los dos operadores son `True`.\n",
    "- `||` o `or` O, `True` si uno o ambos operadores es `True`"
   ]
  },
  {
   "cell_type": "code",
   "execution_count": 32,
   "id": "d1af5144",
   "metadata": {},
   "outputs": [
    {
     "name": "stdout",
     "output_type": "stream",
     "text": [
      "¿no le gustan los reptiles? True\n",
      "¿le gustan los perros y los gatos? True\n",
      "¿le gustan los perros o los reptiles? True\n"
     ]
    }
   ],
   "source": [
    "le_gustan_los_gatos = True\n",
    "le_gustan_los_perros = True\n",
    "le_gustan_los_reptiles = False\n",
    "\n",
    "print(f'¿no le gustan los reptiles? {not le_gustan_los_reptiles}')\n",
    "print(f'¿le gustan los perros y los gatos? {le_gustan_los_gatos and le_gustan_los_perros}')\n",
    "print(f'¿le gustan los perros o los reptiles? {le_gustan_los_perros or le_gustan_los_reptiles}')"
   ]
  },
  {
   "cell_type": "markdown",
   "metadata": {},
   "source": [
    "## Evaluación Final\n",
    "En esta celda se validarán todas las actividades mediante pruebas unitarias. Ejecuta esta celda para verificar tus respuestas."
   ]
  },
  {
   "cell_type": "code",
   "execution_count": 33,
   "metadata": {},
   "outputs": [
    {
     "name": "stderr",
     "output_type": "stream",
     "text": [
      "...\n",
      "----------------------------------------------------------------------\n",
      "Ran 3 tests in 0.006s\n",
      "\n",
      "OK\n"
     ]
    },
    {
     "data": {
      "text/plain": [
       "<unittest.main.TestProgram at 0x109499050>"
      ]
     },
     "execution_count": 33,
     "metadata": {},
     "output_type": "execute_result"
    }
   ],
   "source": [
    "import unittest\n",
    "class TestOperadores(unittest.TestCase):\n",
    "    def test_actividad1(self):\n",
    "        self.assertEqual(residuo, 15 % 4, 'Error en el residuo de la Actividad 1')\n",
    "        self.assertEqual(potencia, 15 ** 4, 'Error en la potencia de la Actividad 1')\n",
    "        self.assertEqual(division_entera, 15 // 4, 'Error en la división entera de la Actividad 1')\n",
    "\n",
    "    # Evaluación actividad 2: revisar que el alumno documentó con comentarios las respuestas.\n",
    "\n",
    "unittest.main(argv=[''], exit=False)"
   ]
  }
 ],
 "metadata": {
  "kernelspec": {
   "display_name": ".venv.nosync",
   "language": "python",
   "name": "python3"
  },
  "language_info": {
   "codemirror_mode": {
    "name": "ipython",
    "version": 3
   },
   "file_extension": ".py",
   "mimetype": "text/x-python",
   "name": "python",
   "nbconvert_exporter": "python",
   "pygments_lexer": "ipython3",
   "version": "3.11.5"
  }
 },
 "nbformat": 4,
 "nbformat_minor": 5
}
