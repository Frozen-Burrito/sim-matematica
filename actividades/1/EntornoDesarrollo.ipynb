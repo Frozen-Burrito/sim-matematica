{
 "cells": [
  {
   "cell_type": "markdown",
   "metadata": {},
   "source": [
    "# Introducción\n",
    "\n",
    "Autor: Fernando Mendoza Velasco\n",
    "\n",
    "Este jupyter notebook prueba que el entorno de desarrollo esté configurado correctamente."
   ]
  },
  {
   "cell_type": "code",
   "execution_count": 1,
   "metadata": {},
   "outputs": [
    {
     "data": {
      "text/plain": [
       "'Hello, World!'"
      ]
     },
     "metadata": {},
     "output_type": "display_data"
    }
   ],
   "source": [
    "display(\"Hello, World!\")"
   ]
  },
  {
   "cell_type": "markdown",
   "metadata": {},
   "source": [
    "# Pruebas de librerías\n",
    "\n",
    "Las siguientes celdas usan las librerías declaradas en requirements.txt para probar si el entorno está configurado."
   ]
  },
  {
   "cell_type": "code",
   "execution_count": 13,
   "metadata": {},
   "outputs": [
    {
     "data": {
      "text/plain": [
       "'Todos los módulos están instalados correctamente'"
      ]
     },
     "execution_count": 13,
     "metadata": {},
     "output_type": "execute_result"
    }
   ],
   "source": [
    "import time\n",
    "\n",
    "import numpy as np\n",
    "import sympy as sym\n",
    "import matplotlib.pyplot as plt\n",
    "import pandas as pd\n",
    "import scipy.optimize as opt\n",
    "import yfinance as yf\n",
    "import geopandas as gpd\n",
    "from sklearn.preprocessing import StandardScaler\n",
    "\n",
    "\"Todos los módulos están instalados correctamente\""
   ]
  },
  {
   "cell_type": "markdown",
   "metadata": {},
   "source": [
    "## Numpy\n",
    "\n",
    "Soporta cálculos numéricos eficientes."
   ]
  },
  {
   "cell_type": "code",
   "execution_count": 5,
   "metadata": {},
   "outputs": [
    {
     "name": "stdout",
     "output_type": "stream",
     "text": [
      "Arreglo: [1 2 3 4 5]\n",
      "Suma del arreglo: 15\n"
     ]
    }
   ],
   "source": [
    "arreglo = np.array([1, 2, 3, 4, 5])\n",
    "\n",
    "print(\"Arreglo:\", arreglo)\n",
    "print(\"Suma del arreglo:\", np.sum(arreglo))"
   ]
  },
  {
   "cell_type": "markdown",
   "metadata": {},
   "source": [
    "## Sympy\n",
    "\n",
    "Resuelve ecuaciones simbólicamente y hace álgebra computacional. El ejemplo obtiene simbólicamente la derivada de una función."
   ]
  },
  {
   "cell_type": "code",
   "execution_count": 6,
   "metadata": {},
   "outputs": [
    {
     "name": "stdout",
     "output_type": "stream",
     "text": [
      "f(x) = x**2 + 3*x + 2\n",
      "f'(x) =  2*x + 3\n"
     ]
    }
   ],
   "source": [
    "x = sym.Symbol(\"x\")\n",
    "f = x**2 + 3 * x + 2\n",
    "derivada = sym.diff(f, x)\n",
    "\n",
    "print(\"f(x) =\", f)\n",
    "print(\"f'(x) = \", derivada)"
   ]
  },
  {
   "cell_type": "markdown",
   "metadata": {},
   "source": [
    "## Matplotlib\n",
    "\n",
    "Visualiza datos con gráficas de distintos tipos. El ejemplo muestra una gráfica de línea de una función cuadrática, a partir de sus pares de valores x, y."
   ]
  },
  {
   "cell_type": "code",
   "execution_count": 8,
   "metadata": {},
   "outputs": [
    {
     "data": {
      "image/png": "[encoded data removed]",
      "text/plain": [
       "<Figure size 640x480 with 1 Axes>"
      ]
     },
     "metadata": {},
     "output_type": "display_data"
    }
   ],
   "source": [
    "x = [x for x in range(1, 6)]\n",
    "y = [x_i**2 for x_i in x]\n",
    "\n",
    "plt.plot(x, y, marker=\"o\")\n",
    "plt.title(\"y en función de x\")\n",
    "plt.xlabel(\"x\")\n",
    "plt.ylabel(\"y\")\n",
    "plt.grid(True)\n",
    "plt.show()"
   ]
  },
  {
   "cell_type": "markdown",
   "metadata": {},
   "source": [
    "## Pandas\n",
    "\n",
    "Sirve para manipular y analizar datos usando `DataFrame`s. Por ejemplo, puede obtener la media aritmética de una columna."
   ]
  },
  {
   "cell_type": "code",
   "execution_count": 9,
   "metadata": {},
   "outputs": [
    {
     "name": "stdout",
     "output_type": "stream",
     "text": [
      "Dataframe:\n",
      "  Nombre  Edad\n",
      "0    Ana    25\n",
      "1   Luis    30\n",
      "2  María    22\n",
      "\n",
      "Edad promedio: 25.666666666666668\n"
     ]
    }
   ],
   "source": [
    "personas = {\n",
    "    \"Nombre\": [\"Ana\", \"Luis\", \"María\"],\n",
    "    \"Edad\": [25, 30, 22]\n",
    "}\n",
    "\n",
    "df = pd.DataFrame(personas)\n",
    "print(\"Dataframe:\")\n",
    "print(df)\n",
    "print(\"\\nEdad promedio:\", df[\"Edad\"].mean())"
   ]
  },
  {
   "cell_type": "markdown",
   "metadata": {},
   "source": [
    "## Scipy\n",
    "\n",
    "Optimización, integración, álgebra lineal y ortas herramientas científicas. El ejemplo encuentra el mínimo de `f(x)`, una función cuadrática."
   ]
  },
  {
   "cell_type": "code",
   "execution_count": 10,
   "metadata": {},
   "outputs": [],
   "source": [
    "def f(x):\n",
    "    return x**2 + 3 * x + 2"
   ]
  },
  {
   "cell_type": "code",
   "execution_count": 12,
   "metadata": {},
   "outputs": [
    {
     "name": "stdout",
     "output_type": "stream",
     "text": [
      "Mínimo de f(x) =   message: Optimization terminated successfully.\n",
      "  success: True\n",
      "   status: 0\n",
      "      fun: -0.25\n",
      "        x: [-1.500e+00]\n",
      "      nit: 2\n",
      "      jac: [ 0.000e+00]\n",
      " hess_inv: [[ 5.000e-01]]\n",
      "     nfev: 6\n",
      "     njev: 3\n"
     ]
    }
   ],
   "source": [
    "# x0 es el punto inicial.\n",
    "min_global = opt.minimize(f, x0=0)\n",
    "print(\"Mínimo de f(x) =\", min_global)"
   ]
  },
  {
   "cell_type": "markdown",
   "metadata": {},
   "source": [
    "## Time\n",
    "\n",
    "Permite cronometrar la ejecución de una sección de código."
   ]
  },
  {
   "cell_type": "code",
   "execution_count": 15,
   "metadata": {},
   "outputs": [
    {
     "name": "stdout",
     "output_type": "stream",
     "text": [
      "Ejecución tomó 0.13099288940429688 segundos\n"
     ]
    }
   ],
   "source": [
    "start_time = time.time()\n",
    "\n",
    "for i in range(10**6):\n",
    "    pass\n",
    "\n",
    "end_time = time.time()\n",
    "\n",
    "print(f\"Ejecución tomó {end_time - start_time} segundos\")"
   ]
  },
  {
   "cell_type": "markdown",
   "metadata": {},
   "source": [
    "## YFinance\n",
    "\n",
    "Descarga datos financieros desde Yahoo Finance. En este ejemplo, descarga los valores históricos de los últimos 5 días de AAPL."
   ]
  },
  {
   "cell_type": "code",
   "execution_count": 16,
   "metadata": {},
   "outputs": [
    {
     "name": "stdout",
     "output_type": "stream",
     "text": [
      "Datos históricos de AAPL\n",
      "                                 Open        High         Low       Close  \\\n",
      "Date                                                                        \n",
      "2025-01-16 00:00:00-05:00  237.350006  238.009995  228.029999  228.259995   \n",
      "2025-01-17 00:00:00-05:00  232.119995  232.289993  228.479996  229.979996   \n",
      "2025-01-21 00:00:00-05:00  224.000000  224.419998  219.380005  222.639999   \n",
      "2025-01-22 00:00:00-05:00  219.789993  224.119995  219.789993  223.830002   \n",
      "2025-01-23 00:00:00-05:00  224.740005  227.029999  222.300003  223.660004   \n",
      "\n",
      "                             Volume  Dividends  Stock Splits  \n",
      "Date                                                          \n",
      "2025-01-16 00:00:00-05:00  71759100        0.0           0.0  \n",
      "2025-01-17 00:00:00-05:00  68488300        0.0           0.0  \n",
      "2025-01-21 00:00:00-05:00  98070400        0.0           0.0  \n",
      "2025-01-22 00:00:00-05:00  64126500        0.0           0.0  \n",
      "2025-01-23 00:00:00-05:00  60178200        0.0           0.0  \n"
     ]
    }
   ],
   "source": [
    "apple = yf.Ticker(\"AAPL\")\n",
    "aapl_history = apple.history(period=\"5d\")\n",
    "print(\"Datos históricos de AAPL\")\n",
    "print(aapl_history)"
   ]
  },
  {
   "cell_type": "markdown",
   "metadata": {},
   "source": [
    "## Scikit-Learn\n",
    "\n",
    "ML y procesamiento de datos. El ejemplo usa `StandardScaler` para escalar una matriz de datos."
   ]
  },
  {
   "cell_type": "code",
   "execution_count": 17,
   "metadata": {},
   "outputs": [
    {
     "name": "stdout",
     "output_type": "stream",
     "text": [
      "Datos originales:\n",
      "[[1 2 3]\n",
      " [4 5 6]\n",
      " [7 8 9]]\n",
      "\n",
      "Datos escalados:\n",
      "[[-1.22474487 -1.22474487 -1.22474487]\n",
      " [ 0.          0.          0.        ]\n",
      " [ 1.22474487  1.22474487  1.22474487]]\n"
     ]
    }
   ],
   "source": [
    "data = np.array([[1, 2, 3], [4, 5, 6], [7, 8, 9]])\n",
    "scaler = StandardScaler()\n",
    "scaled_data = scaler.fit_transform(data)\n",
    "print(\"Datos originales:\")\n",
    "print(data) \n",
    "print(\"\\nDatos escalados:\")\n",
    "print(scaled_data)"
   ]
  }
 ],
 "metadata": {
  "kernelspec": {
   "display_name": ".venv.nosync",
   "language": "python",
   "name": "python3"
  },
  "language_info": {
   "codemirror_mode": {
    "name": "ipython",
    "version": 3
   },
   "file_extension": ".py",
   "mimetype": "text/x-python",
   "name": "python",
   "nbconvert_exporter": "python",
   "pygments_lexer": "ipython3",
   "version": "3.11.5"
  }
 },
 "nbformat": 4,
 "nbformat_minor": 2
}
