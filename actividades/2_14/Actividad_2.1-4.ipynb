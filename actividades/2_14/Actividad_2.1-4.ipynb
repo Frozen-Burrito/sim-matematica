{
 "cells": [
  {
   "cell_type": "markdown",
   "metadata": {},
   "source": [
    "# 📘 **Explicación de Derivadas y Programación Lineal**\n",
    "---\n",
    "\n",
    "Fernando Mendoza Velasco - 18 de febrero de 2025\n",
    "\n",
    "## ✨ **Conceptos clave:**\n",
    "🔹 **Derivadas en python**  \n",
    "🔹 **Funciones crecientes y decrecientes**\n",
    "🔹 **Identificación de variables de decisión**  \n",
    "🔹 **Cálculo de derivadas en Python**  \n",
    "🔹 **Optimización con Programación Lineal**  \n",
    "\n",
    "---\n",
    "\n",
    "### 🎯 **Objetivo:**  \n",
    "Comprender el concepto de derivadas, su aplicación en la identificación de funciones crecientes y decrecientes, y aprender a calcularlas usando **Python**. Además, exploraremos cómo aplicar la **programación lineal** para resolver problemas de optimización.\n",
    "\n",
    "---\n",
    "\n",
    "### 📌 **¿Qué necesitas?**  \n",
    "✔️ Conocimientos básicos de cálculo diferencial  \n",
    "✔️ Familiaridad con **Python** y **Jupyter Notebook**  \n",
    "✔️ Ganas de aprender y experimentar 🚀  \n",
    "\n",
    "---\n",
    "\n",
    "**¡Comencemos! 🔥**  \n"
   ]
  },
  {
   "cell_type": "markdown",
   "metadata": {},
   "source": [
    "### **Origen de la derivada**\n",
    "El concepto de derivada surge del trabajo de **Isaac Newton** y **Gottfried Wilhelm Leibniz** en el siglo XVII, quienes desarrollaron el cálculo diferencial e integral de manera independiente.\n",
    "\n",
    "- **Newton** introdujo la derivada en el contexto de la **velocidad instantánea** y el movimiento de los cuerpos.\n",
    "- **Leibniz** la formalizó con su notación dy/dx, que aún se usa hoy en día.\n",
    "\n",
    "Ambos desarrollaron la idea de una tasa de cambio infinitesimal para resolver problemas de **movimiento, optimización y geometría**.\n"
   ]
  },
  {
   "cell_type": "markdown",
   "metadata": {},
   "source": [
    "Dado un punto \\( x=a \\), la derivada \\( f'(a) \\) nos dice si la función está:\n",
    "\n",
    "- **Creciendo** (\\( f'(a) > 0 \\)): la pendiente es positiva, y la curva sube.\n",
    "- **Decreciendo** (\\( f'(a) < 0 \\)): la pendiente es negativa, y la curva baja.\n",
    "- **Constante** (\\( f'(a) = 0 \\)): la pendiente es cero, lo que puede indicar un máximo, un mínimo o un punto de inflexión.\n",
    "\n",
    "Visualmente:\n",
    "\n",
    "https://www.geogebra.org/m/ve5pdft7\n"
   ]
  },
  {
   "cell_type": "markdown",
   "metadata": {},
   "source": [
    "### **Ejemplos de derivadas**\n",
    "1. **Derivada de una función lineal**:  \n",
    "   Si $$ f(x) = 3x + 2 $$ la derivada es:\n",
    "\n",
    "$$\n",
    "   f'(x) = 3\n",
    "$$\n",
    "\n",
    "   Como la función es lineal, su pendiente es constante.\n",
    "\n",
    "2. **Derivada de una función cuadrática**:  \n",
    "   Si $$f(x) = x^2$$ la derivada es:\n",
    "\n",
    "$$\n",
    "   f'(x) = 2x\n",
    "$$\n",
    "\n",
    "   Esto indica que la pendiente cambia en cada punto.\n",
    "\n",
    "3. **Derivada de una función exponencial**:  \n",
    "   Si $$ f(x) = e^x$$ su derivada es:\n",
    "\n",
    "$$\n",
    "   f'(x) = e^x\n",
    "$$\n",
    "\n",
    "   Lo que significa que su tasa de crecimiento es igual a su propio valor.\n"
   ]
  },
  {
   "cell_type": "markdown",
   "metadata": {},
   "source": [
    "# **Formulario de Derivadas**\n",
    "\n",
    "Si \\( U \\) y \\( V \\) son funciones diferenciables, y \\( a, c \\) son constantes, se aplican las siguientes reglas de derivación:\n",
    "\n",
    "---\n",
    "\n",
    "## **Algunas Reglas Básicas**\n",
    "\n",
    "1. **Derivada de una constante**  \n",
    "   $$\n",
    "   \\frac{d}{dx} (c) = 0\n",
    "   $$\n",
    "\n",
    "2. **Regla de la potencia**  \n",
    "   $$\n",
    "   \\frac{d}{dx} (x^n) = n x^{n-1}, \\quad \\text{para } n \\in \\mathbb{R}\n",
    "   $$\n",
    "\n",
    "3. **Derivada de una constante por una función**  \n",
    "   $$\n",
    "   \\frac{d}{dx} (aU) = aU'\n",
    "   $$\n",
    "\n",
    "4. **Regla de la suma/resta**  \n",
    "   $$\n",
    "   \\frac{d}{dx} (U \\pm V) = U' \\pm V'\n",
    "   $$\n",
    "\n",
    "5. **Regla del producto**  \n",
    "   $$\n",
    "   \\frac{d}{dx} (U V) = U' V + U V'\n",
    "   $$\n",
    "\n",
    "6. **Regla del cociente**  \n",
    "   $$\n",
    "   \\frac{d}{dx} \\left( \\frac{U}{V} \\right) = \\frac{U' V - U V'}{V^2}, \\quad V \\neq 0\n",
    "   $$\n",
    "\n",
    "7. **Regla de la cadena**  \n",
    "   $$\n",
    "   \\frac{d}{dx} f(g(x)) = f'(g(x)) \\cdot g'(x)\n",
    "   $$\n",
    "\n",
    "---\n",
    "\n"
   ]
  },
  {
   "cell_type": "markdown",
   "metadata": {},
   "source": [
    "---\n",
    "\n",
    "# 📘 Introducción a las Derivadas en Python\n",
    "## ✨ Reglas de Derivación"
   ]
  },
  {
   "cell_type": "code",
   "execution_count": 72,
   "metadata": {},
   "outputs": [],
   "source": [
    "import sympy as sp\n",
    "from IPython.display import display, Markdown\n",
    "\n",
    "# Definir la variable simbólica\n",
    "x = sp.Symbol('x')\n",
    "a, c = sp.symbols('a c')  # Constantes"
   ]
  },
  {
   "cell_type": "markdown",
   "metadata": {},
   "source": [
    "### 1️⃣ Derivada de una constante\n",
    "$$ \\frac{d}{dx} (c) = 0 $$"
   ]
  },
  {
   "cell_type": "code",
   "execution_count": 73,
   "metadata": {},
   "outputs": [
    {
     "data": {
      "text/latex": [
       "$\\displaystyle 0$"
      ],
      "text/plain": [
       "0"
      ]
     },
     "metadata": {},
     "output_type": "display_data"
    },
    {
     "data": {
      "text/markdown": [
       "Evaluación en x=2: 0"
      ],
      "text/plain": [
       "<IPython.core.display.Markdown object>"
      ]
     },
     "metadata": {},
     "output_type": "display_data"
    }
   ],
   "source": [
    "derivada_constante = sp.diff(c, x)\n",
    "display(derivada_constante)\n",
    "eval_constante = derivada_constante.subs(x, 2)\n",
    "display(Markdown(f\"Evaluación en x=2: {eval_constante}\"))"
   ]
  },
  {
   "cell_type": "markdown",
   "metadata": {},
   "source": [
    "### 2️⃣ Regla de la potencia\n",
    "$$ \\frac{d}{dx} (x^n) = n x^{n-1} $$"
   ]
  },
  {
   "cell_type": "code",
   "execution_count": 74,
   "metadata": {},
   "outputs": [
    {
     "data": {
      "text/latex": [
       "$\\displaystyle 3 x^{2}$"
      ],
      "text/plain": [
       "3*x**2"
      ]
     },
     "metadata": {},
     "output_type": "display_data"
    },
    {
     "data": {
      "text/markdown": [
       "Evaluación en x=2: 12"
      ],
      "text/plain": [
       "<IPython.core.display.Markdown object>"
      ]
     },
     "metadata": {},
     "output_type": "display_data"
    }
   ],
   "source": [
    "potencia = x**3\n",
    "derivada_potencia = sp.diff(potencia, x)\n",
    "display(derivada_potencia)\n",
    "eval_potencia = derivada_potencia.subs(x, 2)\n",
    "display(Markdown(f\"Evaluación en x=2: {eval_potencia}\"))"
   ]
  },
  {
   "cell_type": "markdown",
   "metadata": {},
   "source": [
    "### 3️⃣ Derivada de una constante por una función\n",
    "$$ \\frac{d}{dx} (a \\sin x) = a \\cos x $$"
   ]
  },
  {
   "cell_type": "code",
   "execution_count": 75,
   "metadata": {},
   "outputs": [
    {
     "data": {
      "text/latex": [
       "$\\displaystyle a \\cos{\\left(x \\right)}$"
      ],
      "text/plain": [
       "a*cos(x)"
      ]
     },
     "metadata": {},
     "output_type": "display_data"
    },
    {
     "data": {
      "text/markdown": [
       "Evaluación en x=π: -a"
      ],
      "text/plain": [
       "<IPython.core.display.Markdown object>"
      ]
     },
     "metadata": {},
     "output_type": "display_data"
    }
   ],
   "source": [
    "constante_por_funcion = a * sp.sin(x)\n",
    "derivada_constante_por_funcion = sp.diff(constante_por_funcion, x)\n",
    "display(derivada_constante_por_funcion)\n",
    "eval_const_func = derivada_constante_por_funcion.subs(x, sp.pi)\n",
    "display(Markdown(f\"Evaluación en x=π: {eval_const_func}\"))\n",
    "# Coseno de pi igual a -1 \n",
    "# por lo tanto f(π)=a(−1)=−a"
   ]
  },
  {
   "cell_type": "markdown",
   "metadata": {},
   "source": [
    "### 4️⃣ Regla de la suma/resta\n",
    "$$ \\frac{d}{dx} (x^2 + e^x) = 2x + e^x $$"
   ]
  },
  {
   "cell_type": "code",
   "execution_count": 76,
   "metadata": {},
   "outputs": [
    {
     "data": {
      "text/latex": [
       "$\\displaystyle 2 x + e^{x}$"
      ],
      "text/plain": [
       "2*x + exp(x)"
      ]
     },
     "metadata": {},
     "output_type": "display_data"
    },
    {
     "data": {
      "text/markdown": [
       "Evaluación en x=1: 2 + E"
      ],
      "text/plain": [
       "<IPython.core.display.Markdown object>"
      ]
     },
     "metadata": {},
     "output_type": "display_data"
    }
   ],
   "source": [
    "suma_resta = x**2 + sp.exp(x)\n",
    "derivada_suma_resta = sp.diff(suma_resta, x)\n",
    "display(derivada_suma_resta)\n",
    "eval_suma_resta = derivada_suma_resta.subs(x, 1)\n",
    "display(Markdown(f\"Evaluación en x=1: {eval_suma_resta}\"))"
   ]
  },
  {
   "cell_type": "markdown",
   "metadata": {},
   "source": [
    "### 5️⃣ Regla del producto\n",
    "$$ \\frac{d}{dx} (x \\cos x) = -x \\sin x + \\cos x $$"
   ]
  },
  {
   "cell_type": "code",
   "execution_count": 77,
   "metadata": {},
   "outputs": [
    {
     "data": {
      "text/latex": [
       "$\\displaystyle - x \\sin{\\left(x \\right)} + \\cos{\\left(x \\right)}$"
      ],
      "text/plain": [
       "-x*sin(x) + cos(x)"
      ]
     },
     "metadata": {},
     "output_type": "display_data"
    }
   ],
   "source": [
    "producto = x * sp.cos(x)\n",
    "derivada_producto = sp.diff(producto, x)\n",
    "display(derivada_producto)"
   ]
  },
  {
   "cell_type": "markdown",
   "metadata": {},
   "source": [
    "### 6️⃣ Regla del cociente\n",
    "$$ \\frac{d}{dx} \\left( \\frac{x^2 + 1}{x + 1} \\right) $$"
   ]
  },
  {
   "cell_type": "code",
   "execution_count": 78,
   "metadata": {},
   "outputs": [
    {
     "data": {
      "text/latex": [
       "$\\displaystyle \\frac{2 x}{x + 1} - \\frac{x^{2} + 1}{\\left(x + 1\\right)^{2}}$"
      ],
      "text/plain": [
       "2*x/(x + 1) - (x**2 + 1)/(x + 1)**2"
      ]
     },
     "metadata": {},
     "output_type": "display_data"
    }
   ],
   "source": [
    "cociente = (x**2 + 1) / (x + 1)\n",
    "derivada_cociente = sp.diff(cociente, x)\n",
    "display(derivada_cociente)"
   ]
  },
  {
   "cell_type": "markdown",
   "metadata": {},
   "source": [
    "### 7️⃣ Regla de la cadena\n",
    "$$ \\frac{d}{dx} (\\sin(x^2 + 1)) = 2x \\cos(x^2 + 1) $$"
   ]
  },
  {
   "cell_type": "code",
   "execution_count": 79,
   "metadata": {},
   "outputs": [
    {
     "data": {
      "text/latex": [
       "$\\displaystyle 2 x \\cos{\\left(x^{2} + 1 \\right)}$"
      ],
      "text/plain": [
       "2*x*cos(x**2 + 1)"
      ]
     },
     "metadata": {},
     "output_type": "display_data"
    }
   ],
   "source": [
    "compuesta = sp.sin(x**2 + 1)\n",
    "derivada_compuesta = sp.diff(compuesta, x)\n",
    "display(derivada_compuesta)"
   ]
  },
  {
   "cell_type": "markdown",
   "metadata": {},
   "source": [
    "# 🏭 **Identificación de Variables de Decisión y programación lineal**\n",
    "Pensemos en el siguiente **Problema:** sobre  **Producción de Sillas y Mesas**:\n",
    "\n",
    "Una fábrica produce **sillas** y **mesas**. Cada silla genera **$5 de ganancia** y cada mesa **$8**. La producción está limitada por:  \n",
    "\n",
    "- **40 horas de trabajo disponibles**  \n",
    "- **30 unidades de madera disponibles**  \n",
    "\n",
    "Cada silla requiere **4 horas de trabajo** y **3 unidades de madera**, mientras que cada mesa requiere **5 horas de trabajo** y **6 unidades de madera**.\n",
    "\n",
    "📌 **Objetivo:** Determinar cuántas **sillas** y **mesas** deben producirse para **maximizar la ganancia**.\n",
    "\n",
    "---\n",
    "\n",
    "## 🔍 **Identificación de las Variables de Decisión**\n",
    "Para formular matemáticamente el problema, debemos identificar **qué cantidades queremos determinar**.\n",
    "\n",
    "- **¿Qué estamos decidiendo?** → **Cuántas sillas y mesas producir**  \n",
    "- **Definición matemática:**\n",
    "  - \\( x_1 \\) = Número de **sillas** a producir  \n",
    "  - \\( x_2 \\) = Número de **mesas** a producir  \n",
    "\n",
    "Estas variables definirán la solución del problema.\n",
    "\n",
    "---\n",
    "\n",
    "## 🎯 **¿Qué son las Variables de Decisión?**\n",
    "Las **variables de decisión** son los valores desconocidos que necesitamos determinar para encontrar la mejor solución a un problema de optimización.  \n",
    "Estas variables representan **acciones bajo nuestro control** y afectan la **función objetivo** y las **restricciones**.\n",
    "\n",
    "### ✅ **Características de las Variables de Decisión**\n",
    "✔️ **Deben ser cuantificables** (números reales o enteros).  \n",
    "✔️ **Deben estar bajo nuestro control** dentro del problema.  \n",
    "✔️ **Deben definir completamente la solución**.  \n",
    "\n",
    "En nuestro ejemplo:\n",
    "- \\( x_1 \\) y \\( x_2 \\) **definen la cantidad de productos a fabricar**.\n",
    "- La **función objetivo** dependerá de estas variables.\n",
    "- Las **restricciones** como el tiempo y la madera también dependen de \\( x_1 \\) y \\( x_2 \\).\n",
    "\n",
    "---\n",
    "\n",
    "## 📌 **Pasos para Identificar las Variables de Decisión**\n",
    "### **1️⃣ Leer y Comprender el Problema**\n",
    "Antes de definir las variables, es fundamental entender:\n",
    "- **¿Qué estamos maximizando o minimizando?** (Ejemplo: ganancias, costos, recursos).  \n",
    "- **¿Qué está bajo nuestro control?** (Ejemplo: unidades a producir, recursos a asignar).  \n",
    "\n",
    "### **2️⃣ Identificar las Cantidades a Determinar**\n",
    "Las variables de decisión corresponden a **las incógnitas del problema**.  \n",
    "Algunas preguntas clave:\n",
    "- ¿Qué valores afectan directamente la solución?  \n",
    "- ¿Qué decisiones podemos tomar dentro del problema?  \n",
    "\n",
    "### **3️⃣ Definir las Variables Matemáticamente**\n",
    "Las variables deben representarse con símbolos claros.  \n",
    "En nuestro ejemplo:\n",
    "- **\\( x_1 \\) y \\( x_2 \\)** determinan la solución.\n",
    "- La **función objetivo** se expresa como:\n",
    "  $$\n",
    "  \\max \\quad 5x_1 + 8x_2\n",
    "  $$\n",
    "  donde **\\( x_1 \\)** representa el número de **sillas** a producir y **\\( x_2 \\)** el número de **mesas**.\n",
    "\n",
    "- Las **restricciones** del problema se escriben como ecuaciones en función de \\( x_1 \\) y \\( x_2 \\):\n",
    "\n",
    "  - **Restricción de horas de trabajo**:  \n",
    "    Cada silla requiere **4 horas** y cada mesa **5 horas** de trabajo.  \n",
    "    Como solo hay **40 horas disponibles**, se plantea la restricción:\n",
    "    $$\n",
    "    4x_1 + 5x_2 \\leq 40\n",
    "    $$\n",
    "\n",
    "  - **Restricción de madera**:  \n",
    "    Cada silla requiere **3 unidades de madera** y cada mesa **6 unidades**.  \n",
    "    Como hay **30 unidades disponibles**, la restricción es:\n",
    "    $$\n",
    "    3x_1 + 6x_2 \\leq 30\n",
    "    $$\n",
    "\n",
    "  - **Restricciones de no negatividad**:  \n",
    "    No podemos producir una cantidad negativa de sillas o mesas, por lo que:\n",
    "    $$\n",
    "    x_1 \\geq 0, \\quad x_2 \\geq 0\n",
    "    $$\n",
    "\n",
    "---\n",
    "\n",
    "### **🛠 LHS (Left-Hand Side) y RHS (Right-Hand Side) en las Restricciones**\n",
    "En cualquier ecuación o inecuación matemática, los términos pueden separarse en:\n",
    "\n",
    "- **LHS (Left-Hand Side - Lado Izquierdo)**: Es la parte de la ecuación antes del signo de desigualdad o igualdad.  \n",
    "  - En la restricción de horas de trabajo:  \n",
    "    **LHS** → \\( 4x_1 + 5x_2 \\) representa el **uso total de horas de trabajo**.\n",
    "  \n",
    "  - En la restricción de madera:  \n",
    "    **LHS** → \\( 3x_1 + 6x_2 \\) representa el **uso total de madera**.\n",
    "\n",
    "- **RHS (Right-Hand Side - Lado Derecho)**: Es el valor límite después del signo de desigualdad o igualdad.  \n",
    "  - En la restricción de horas de trabajo:  \n",
    "    **RHS** → \\( 40 \\) representa el **máximo de horas disponibles**.\n",
    "  \n",
    "  - En la restricción de madera:  \n",
    "    **RHS** → \\( 30 \\) representa la **cantidad de madera disponible**.\n",
    "\n",
    "**Ejemplo completo de una restricción desglosada:**\n",
    "$$\n",
    "4x_1 + 5x_2 \\leq 40\n",
    "$$\n",
    "- **LHS** → \\( 4x_1 + 5x_2 \\) (horas requeridas para producción).  \n",
    "- **RHS** → \\( 40 \\) (horas disponibles).  \n",
    "- **Signo \\( \\leq \\)** → Indica que **no podemos exceder las 40 horas disponibles**.\n",
    "\n",
    "### **4️⃣ Verificar la Validez de las Variables**\n",
    "- **¿Las variables permiten expresar la función objetivo?** ✅ Sí.  \n",
    "- **¿Las restricciones dependen de estas variables?** ✅ Sí.  \n",
    "- **¿Tienen sentido en el contexto del problema?** ✅ Sí.  \n",
    "\n",
    "---\n",
    "# Ejemplo práctico de programación lineal"
   ]
  },
  {
   "cell_type": "code",
   "execution_count": 80,
   "metadata": {},
   "outputs": [
    {
     "data": {
      "text/plain": [
       "(np.float64(10.0), np.float64(0.0), 50.0)"
      ]
     },
     "execution_count": 80,
     "metadata": {},
     "output_type": "execute_result"
    }
   ],
   "source": [
    "from scipy.optimize import linprog\n",
    "\n",
    "# Coeficientes de la función objetivo (maximizar 5x1 + 8x2)\n",
    "c = [-5, -8]  # Se usan negativos porque linprog minimiza por defecto\n",
    "\n",
    "# Coeficientes de las restricciones (LHS)\n",
    "A = [\n",
    "    [4, 5],  # Restricción de horas de trabajo [silla, mesa] \n",
    "    [3, 6]   # Restricción de madera [silla, mesa]\n",
    "]\n",
    "\n",
    "# Lado derecho de las restricciones (RHS)\n",
    "b = [40, 30]\n",
    "\n",
    "# Límites de las variables (no pueden ser negativas)\n",
    "# x_bounds = [(lower_x1, upper_x1), (lower_x2, upper_x2)]\n",
    "# None si no hay límite, o si el limite es infinito\n",
    "x_bounds = [(0, None), (0, None)]\n",
    "\n",
    "# Resolver el problema usando el método símplex\n",
    "resultado = linprog(c, A_ub=A, b_ub=b, bounds=x_bounds, method=\"highs\")\n",
    "\n",
    "# Obtener los valores óptimos de las variables y la ganancia máxima\n",
    "solucion_x1 = resultado.x[0]\n",
    "solucion_x2 = resultado.x[1]\n",
    "ganancia_maxima = -resultado.fun  # Se invierte el signo para obtener la maximización\n",
    "\n",
    "solucion_x1, solucion_x2, ganancia_maxima"
   ]
  },
  {
   "cell_type": "markdown",
   "metadata": {},
   "source": [
    "# Veamoslo graficamente"
   ]
  },
  {
   "cell_type": "markdown",
   "metadata": {},
   "source": [
    "Dada la inecuación:\n",
    "\n",
    "$$\n",
    "4x_1 + 5x_2 \\leq 40\n",
    "$$\n",
    "\n",
    "**Despejamos \\( x_2 \\):**\n",
    "1. Restamos \\( 4x_1 \\) en ambos lados:\n",
    "   $$\n",
    "   5x_2 \\leq 40 - 4x_1\n",
    "   $$\n",
    "2. Dividimos todo entre **5**:\n",
    "   $$\n",
    "   x_2 \\leq \\frac{40 - 4x_1}{5}\n",
    "   $$\n",
    "\n",
    "En **Python**, esta expresión se representaría como:\n",
    "\n",
    "```python\n",
    "x2_vals_trabajo = (40 - 4*x1_vals) / 5\n",
    "```\n",
    "Lo mismo para madera\n",
    "\n",
    "```python\n",
    "x2_vals_madera = (30 - 3*x1_vals) / 6\n",
    "```"
   ]
  },
  {
   "cell_type": "code",
   "execution_count": 81,
   "metadata": {},
   "outputs": [
    {
     "data": {
      "image/png": "[encoded data removed]",
      "text/plain": [
       "<Figure size 800x600 with 1 Axes>"
      ]
     },
     "metadata": {},
     "output_type": "display_data"
    }
   ],
   "source": [
    "\n",
    "import numpy as np\n",
    "import matplotlib.pyplot as plt\n",
    "\n",
    "# cada silla require 4 horas, en 40 horas prod\n",
    "# Crear el espacio de valores para x1 y x2\n",
    "x1_vals = np.linspace(0, 10, 100)\n",
    "\n",
    "x2_vals_trabajo = (40 - 4*x1_vals) / 5  # Restricción de horas de trabajo despejando x2\n",
    "x2_vals_madera = (30 - 3*x1_vals) / 6  # Restricción de madera despejando x2\n",
    "\n",
    "# Configurar el gráfico\n",
    "plt.figure(figsize=(8, 6))\n",
    "plt.xlim(0, 12)\n",
    "plt.ylim(0, 10)\n",
    "\n",
    "# Dibujar las restricciones\n",
    "plt.plot(x1_vals, x2_vals_trabajo, label=r'$4x_1 + 5x_2 \\leq 40$', color=\"blue\")\n",
    "plt.plot(x1_vals, x2_vals_madera, label=r'$3x_1 + 6x_2 \\leq 30$', color=\"green\")\n",
    "\n",
    "# Rellenar la región factible\n",
    "plt.fill_between(x1_vals, np.minimum(x2_vals_trabajo, x2_vals_madera), 0, color='gray', alpha=0.3)\n",
    "\n",
    "# Marcar la solución óptima\n",
    "plt.scatter(10, 0, color=\"red\", zorder=3, label=\"Solución óptima (10,0)\")\n",
    "\n",
    "# Etiquetas y título\n",
    "plt.xlabel(r'$x_1$ (Sillas)')\n",
    "plt.ylabel(r'$x_2$ (Mesas)')\n",
    "plt.title(\"Región Factible y Solución Óptima\")\n",
    "plt.axhline(0, color='black', linewidth=1)\n",
    "plt.axvline(0, color='black', linewidth=1)\n",
    "plt.legend()\n",
    "plt.grid()\n",
    "\n",
    "# Mostrar el gráfico\n",
    "plt.show()"
   ]
  },
  {
   "cell_type": "markdown",
   "metadata": {},
   "source": [
    "### **📌 ¿Por qué despejamos \\( x_2 \\) y no \\( x_1 \\) en el método gráfico?**\n",
    "\n",
    "En el **método gráfico** de **programación lineal**, despejamos **\\( x_2 \\) en función de \\( x_1 \\)** para **facilitar la representación en un plano cartesiano**. La razón principal es que **las gráficas en 2D se suelen trazar en función de \\( x_1 \\) (eje horizontal) y \\( x_2 \\) (eje vertical)**.\n"
   ]
  },
  {
   "cell_type": "markdown",
   "metadata": {},
   "source": [
    "---\n",
    "## 🔥 Ejercicios Integradores\n",
    "Ahora es tu turno. Calcula las siguientes derivadas con sympy cada una en una celda de código y verifica tus resultados con `sympy.diff()`.\n",
    "\n",
    "### **Ejercicio 1 - Derivadas de funciones con exponentes fraccionarios**\n",
    "Calcula la derivada de la siguiente función y evalúala en \\( x = 1 \\):\n",
    "\n",
    "$$\n",
    "f(x) = x^{\\frac{3}{2}} + 5x^{\\frac{1}{3}} - e^{x^2}\n",
    "$$\n",
    "\n",
    "---\n",
    "\n",
    "### **Ejercicio 2 - Aplicación de la regla del producto y exponenciales**\n",
    "Deriva la siguiente función y evalúa en \\( x = 2 \\):\n",
    "\n",
    "$$\n",
    "g(x) = (x^3 + 2x) e^{\\sin x}\n",
    "$$\n",
    "\n",
    "---\n",
    "\n",
    "### **Ejercicio 3 - Regla del cociente con logaritmos y trigonometría**\n",
    "Calcula la derivada de la siguiente función y evalúala en \\( x = pi/4 \\):\n",
    "\n",
    "$$\n",
    "h(x) = \\frac{\\ln(x^2 + 1)}{\\tan x}\n",
    "$$\n",
    "\n",
    "---\n",
    "\n",
    "### **Ejercicio 4 - Regla de la cadena con funciones compuestas**\n",
    "Aplica la regla de la cadena para obtener la derivada y evalúa en \\( x = 1 \\):\n",
    "\n",
    "$$\n",
    "k(x) = \\sin^2(e^{x^3 + x})\n",
    "$$\n",
    "\n",
    "---\n",
    "\n",
    "### **Ejercicio 5 - Derivadas en finanzas y economía**\n",
    "Supongamos que una empresa modela su costo de producción con la siguiente función:\n",
    "\n",
    "$$\n",
    "C(x) = \\frac{x^3 + 10x}{\\ln(x+2)}\n",
    "$$\n",
    "\n",
    "Calcula \\( C'(x) \\) y evalúa en \\( x = 5 \\) para determinar la tasa de cambio del costo en esa producción.\n",
    "\n",
    "---\n",
    "\n",
    "### **Ejercicio 6 - Aplicaciones en Machine Learning**\n",
    "En redes neuronales, la función de activación **sigmoide** es:\n",
    "\n",
    "$$\n",
    "\\sigma(x) = \\frac{1}{1 + e^{-x}}\n",
    "$$\n",
    "\n",
    "Calcula su derivada  y evalúa en \\( x = 0 \\), \\( x = 2 \\), y \\( x = -2 \\).\n",
    "\n",
    "---"
   ]
  },
  {
   "cell_type": "markdown",
   "metadata": {},
   "source": [
    "### Respuesta al ejercicio 1\n",
    "Sea\n",
    "\n",
    "$$\n",
    "f(x) = x^{\\frac{3}{2}} + 5x^{\\frac{1}{3}} - e^{x^2}\n",
    "$$\n",
    "\n",
    "Calcular $ f'(x) $ y $ f'(1) $"
   ]
  },
  {
   "cell_type": "code",
   "execution_count": 82,
   "metadata": {},
   "outputs": [
    {
     "data": {
      "text/latex": [
       "$\\displaystyle \\frac{1.66666666666667}{x^{0.666666666666667}} + 1.5 x^{0.5} - 2 x e^{x^{2}}$"
      ],
      "text/plain": [
       "1.66666666666667/x**0.666666666666667 + 1.5*x**0.5 - 2*x*exp(x**2)"
      ]
     },
     "metadata": {},
     "output_type": "display_data"
    },
    {
     "data": {
      "text/markdown": [
       "f'(x = 1) = 3.16666666666667 - 2*E"
      ],
      "text/plain": [
       "<IPython.core.display.Markdown object>"
      ]
     },
     "metadata": {},
     "output_type": "display_data"
    },
    {
     "data": {
      "text/latex": [
       "$\\displaystyle \\frac{1.66666666666667}{x^{0.666666666666667}} + 1.5 x^{0.5} - 2 x e^{x^{2}}$"
      ],
      "text/plain": [
       "1.66666666666667/x**0.666666666666667 + 1.5*x**0.5 - 2*x*exp(x**2)"
      ]
     },
     "metadata": {},
     "output_type": "display_data"
    }
   ],
   "source": [
    "# Todas las derivadas están en términos de \"x\".\n",
    "x = sp.Symbol(\"x\")\n",
    "\n",
    "# Obtener la derivada de f(x) \"manualmente\". \n",
    "f_x = x**(3/2) + 5 * x**(1/3) - sp.exp(x**2)\n",
    "f_x_prima = (3/2) * x**(1/2) + (5/3) * x**(-2/3) - 2 * x * sp.exp(x**2)\n",
    "display(f_x_prima)\n",
    "\n",
    "# Evaluar f'(x) en x = 1\n",
    "eval_x = 1\n",
    "f_x_prima_eval = f_x_prima.subs(x, eval_x)\n",
    "\n",
    "display(Markdown(f\"f'(x = {eval_x}) = {f_x_prima_eval}\"))\n",
    "\n",
    "# Obtener la derivada de f(x) usando SymPy.\n",
    "f_x_prima_sp = sp.diff(f_x, x)\n",
    "display(f_x_prima_sp)"
   ]
  },
  {
   "cell_type": "markdown",
   "metadata": {},
   "source": [
    "### Respuesta al Ejercicio 2\n",
    "\n",
    "$$\n",
    "g(x) = (x^3 + 2x) e^{\\sin x}\n",
    "$$\n",
    "\n",
    "Calcula $ g'(x) $ y $ g'(2) $."
   ]
  },
  {
   "cell_type": "code",
   "execution_count": 83,
   "metadata": {},
   "outputs": [
    {
     "data": {
      "text/latex": [
       "$\\displaystyle \\left(3 x^{2} + \\left(x^{3} + 2 x\\right) \\cos{\\left(x \\right)} + 2\\right) e^{\\sin{\\left(x \\right)}}$"
      ],
      "text/plain": [
       "(3*x**2 + (x**3 + 2*x)*cos(x) + 2)*exp(sin(x))"
      ]
     },
     "metadata": {},
     "output_type": "display_data"
    },
    {
     "data": {
      "text/markdown": [
       "g'(x = 2) = (12*cos(2) + 14)*exp(sin(2))"
      ],
      "text/plain": [
       "<IPython.core.display.Markdown object>"
      ]
     },
     "metadata": {},
     "output_type": "display_data"
    },
    {
     "data": {
      "text/latex": [
       "$\\displaystyle \\left(3 x^{2} + 2\\right) e^{\\sin{\\left(x \\right)}} + \\left(x^{3} + 2 x\\right) e^{\\sin{\\left(x \\right)}} \\cos{\\left(x \\right)}$"
      ],
      "text/plain": [
       "(3*x**2 + 2)*exp(sin(x)) + (x**3 + 2*x)*exp(sin(x))*cos(x)"
      ]
     },
     "metadata": {},
     "output_type": "display_data"
    }
   ],
   "source": [
    "# Obtener la derivada de g(x) \"manualmente\".\n",
    "g_x_prima = sp.exp(sp.sin(x)) * ((3 * x**2 + 2) + (x**3 + 2 * x) * sp.cos(x))\n",
    "display(g_x_prima)\n",
    "\n",
    "# Evaluar g'(x) en x = 2\n",
    "eval_x = 2\n",
    "g_x_prima_eval = g_x_prima.subs(x, eval_x)\n",
    "display(Markdown(f\"g'(x = {eval_x}) = {g_x_prima_eval}\"))\n",
    "\n",
    "# Obtener la derivada de g(x) usando SymPy.\n",
    "g_x = (x**3 + 2 * x) * sp.exp(sp.sin(x))\n",
    "g_x_prima_sympy = sp.diff(g_x, x)\n",
    "display(g_x_prima_sympy)"
   ]
  },
  {
   "cell_type": "markdown",
   "metadata": {},
   "source": [
    "### Respuesta al Ejercicio 3\n",
    "\n",
    "Sea\n",
    "\n",
    "$$\n",
    "h(x) = \\frac{\\ln(x^2 + 1)}{\\tan x}\n",
    "$$\n",
    "\n",
    "Calcula $ h'(x) $ y $ h'(\\pi/4) $."
   ]
  },
  {
   "cell_type": "code",
   "execution_count": 84,
   "metadata": {},
   "outputs": [
    {
     "data": {
      "text/latex": [
       "$\\displaystyle \\frac{2 x \\cot{\\left(x \\right)}}{x^{2} + 1} - \\log{\\left(x^{2} + 1 \\right)} \\csc^{2}{\\left(x \\right)}$"
      ],
      "text/plain": [
       "2*x*cot(x)/(x**2 + 1) - log(x**2 + 1)*csc(x)**2"
      ]
     },
     "metadata": {},
     "output_type": "display_data"
    },
    {
     "data": {
      "text/markdown": [
       "h'(x = $pi$/4) = -2*log(pi**2/16 + 1) + pi/(2*(pi**2/16 + 1))"
      ],
      "text/plain": [
       "<IPython.core.display.Markdown object>"
      ]
     },
     "metadata": {},
     "output_type": "display_data"
    },
    {
     "data": {
      "text/latex": [
       "$\\displaystyle \\frac{2 x}{\\left(x^{2} + 1\\right) \\tan{\\left(x \\right)}} + \\frac{\\left(- \\tan^{2}{\\left(x \\right)} - 1\\right) \\log{\\left(x^{2} + 1 \\right)}}{\\tan^{2}{\\left(x \\right)}}$"
      ],
      "text/plain": [
       "2*x/((x**2 + 1)*tan(x)) + (-tan(x)**2 - 1)*log(x**2 + 1)/tan(x)**2"
      ]
     },
     "metadata": {},
     "output_type": "display_data"
    },
    {
     "data": {
      "text/markdown": [
       "h'(x = $pi$/4) = -2*log(pi**2/16 + 1) + pi/(2*(pi**2/16 + 1))"
      ],
      "text/plain": [
       "<IPython.core.display.Markdown object>"
      ]
     },
     "metadata": {},
     "output_type": "display_data"
    }
   ],
   "source": [
    "# Obtener la derivada de h(x) \"manualmente\".\n",
    "# 1/tan(x) = cos(x)/sen(x)\n",
    "h_x_prima = (2 * x * sp.cot(x) / (x**2 + 1)) - sp.ln(x**2 + 1) * sp.csc(x)**2\n",
    "display(h_x_prima)\n",
    "\n",
    "# Evaluar h'(x) en pi/4\n",
    "eval_x = sp.pi / 4\n",
    "h_x_prima_eval = h_x_prima.subs(x, eval_x)\n",
    "display(Markdown(f\"h'(x = $pi$/4) = {h_x_prima_eval}\"))\n",
    "\n",
    "# Obtener la derivada de h(x) usando SymPy.\n",
    "h_x = sp.ln(x**2 + 1) / sp.tan(x)\n",
    "h_x_prima_sympy = sp.diff(h_x, x)\n",
    "display(h_x_prima_sympy)\n",
    "\n",
    "# Evaluar h'(x) obtenida de SymPy en pi/4\n",
    "h_x_prima_sympy_eval = h_x_prima_sympy.subs(x, eval_x)\n",
    "display(Markdown(f\"h'(x = $pi$/4) = {h_x_prima_sympy_eval}\"))\n"
   ]
  },
  {
   "cell_type": "markdown",
   "metadata": {},
   "source": [
    "### Respuesta al Ejercicio 4\n",
    "Sea\n",
    "\n",
    "$$\n",
    "k(x) = \\sin^2(e^{x^3 + x})\n",
    "$$\n",
    "\n",
    "Calcula $ k'(x) $ y $ k'(1) $."
   ]
  },
  {
   "cell_type": "code",
   "execution_count": 85,
   "metadata": {},
   "outputs": [
    {
     "data": {
      "text/latex": [
       "$\\displaystyle 2 \\left(3 x^{2} + 1\\right) e^{x^{3} + x} \\sin{\\left(e^{x^{3} + x} \\right)} \\cos{\\left(e^{x^{3} + x} \\right)}$"
      ],
      "text/plain": [
       "2*(3*x**2 + 1)*exp(x**3 + x)*sin(exp(x**3 + x))*cos(exp(x**3 + x))"
      ]
     },
     "metadata": {},
     "output_type": "display_data"
    },
    {
     "data": {
      "text/markdown": [
       "k'(x = 1) = 8*exp(2)*sin(exp(2))*cos(exp(2))"
      ],
      "text/plain": [
       "<IPython.core.display.Markdown object>"
      ]
     },
     "metadata": {},
     "output_type": "display_data"
    },
    {
     "data": {
      "text/latex": [
       "$\\displaystyle 2 \\left(3 x^{2} + 1\\right) e^{x^{3} + x} \\sin{\\left(e^{x^{3} + x} \\right)} \\cos{\\left(e^{x^{3} + x} \\right)}$"
      ],
      "text/plain": [
       "2*(3*x**2 + 1)*exp(x**3 + x)*sin(exp(x**3 + x))*cos(exp(x**3 + x))"
      ]
     },
     "metadata": {},
     "output_type": "display_data"
    }
   ],
   "source": [
    "# Obtener k'(x) \"manualmente\".\n",
    "k_x_prima = 2 * sp.sin(sp.exp(x**3 + x)) * sp.cos(sp.exp(x**3 + x)) * sp.exp(x**3 + x) * (3*(x**2) + 1)\n",
    "display(k_x_prima)\n",
    "\n",
    "# Evaluar k'(x) en x = 1\n",
    "eval_x = 1\n",
    "resultado_eval_k_x_prima = k_x_prima.subs(x, eval_x)\n",
    "display(Markdown(f\"k'(x = {eval_x}) = {resultado_eval_k_x_prima}\"))\n",
    "\n",
    "# Obtener k'(x) usando SymPy.\n",
    "k_x = sp.sin(sp.exp(x**3 + x)) ** 2\n",
    "k_x_prima_sympy = sp.diff(k_x, x)\n",
    "display(k_x_prima_sympy)"
   ]
  },
  {
   "cell_type": "markdown",
   "metadata": {},
   "source": [
    "### Respuesta al Ejercicio 5\n",
    "Sea\n",
    "\n",
    "$$\n",
    "C(x) = \\frac{x^3 + 10x}{\\ln(x+2)}\n",
    "$$\n",
    "\n",
    "Calcula $ C'(x) $ y evalúa en $ x = 5 $."
   ]
  },
  {
   "cell_type": "code",
   "execution_count": 86,
   "metadata": {},
   "outputs": [
    {
     "data": {
      "text/latex": [
       "$\\displaystyle \\frac{\\left(3 x^{2} + 10\\right) \\log{\\left(x + 2 \\right)} - \\frac{x^{3} + 10 x}{x + 2}}{\\log{\\left(x + 2 \\right)}^{2}}$"
      ],
      "text/plain": [
       "((3*x**2 + 10)*log(x + 2) - (x**3 + 10*x)/(x + 2))/log(x + 2)**2"
      ]
     },
     "metadata": {},
     "output_type": "display_data"
    },
    {
     "data": {
      "text/markdown": [
       "C'(x = 5) = (-25 + 85*log(7))/log(7)**2"
      ],
      "text/plain": [
       "<IPython.core.display.Markdown object>"
      ]
     },
     "metadata": {},
     "output_type": "display_data"
    },
    {
     "data": {
      "text/latex": [
       "$\\displaystyle \\frac{3 x^{2} + 10}{\\log{\\left(x + 2 \\right)}} - \\frac{x^{3} + 10 x}{\\left(x + 2\\right) \\log{\\left(x + 2 \\right)}^{2}}$"
      ],
      "text/plain": [
       "(3*x**2 + 10)/log(x + 2) - (x**3 + 10*x)/((x + 2)*log(x + 2)**2)"
      ]
     },
     "metadata": {},
     "output_type": "display_data"
    }
   ],
   "source": [
    "# Obtener C'(x) manualmente.\n",
    "c_x_prima = ((3 * x**2 + 10)*sp.ln(x+2) - (x**3 + 10 * x) / (x + 2)) / (sp.ln(x + 2) ** 2)\n",
    "display(c_x_prima)\n",
    "\n",
    "# Evaluar C'(x) en x = 5.\n",
    "eval_x = 5\n",
    "resultado_eval_c_x_prima = c_x_prima.subs(x, eval_x)\n",
    "display(Markdown(f\"C'(x = {eval_x}) = {resultado_eval_c_x_prima}\"))\n",
    "\n",
    "# Obtener C'(x) usando SymPy.\n",
    "c_x = (x**3 + 10*x) / sp.ln(x + 2)\n",
    "c_x_prima_sympy = sp.diff(c_x, x)\n",
    "display(c_x_prima_sympy)"
   ]
  },
  {
   "cell_type": "markdown",
   "metadata": {},
   "source": [
    "### Respuesta al Ejercicio 6\n",
    "En redes neuronales, la función de activación **sigmoide** es:\n",
    "\n",
    "$$\n",
    "\\sigma(x) = \\frac{1}{1 + e^{-x}}\n",
    "$$\n",
    "\n",
    "Calcula $ \\sigma'(x) $ y evalúa en $ x = 0 $, $ x = 2 $, y $ x = -2 $."
   ]
  },
  {
   "cell_type": "code",
   "execution_count": 87,
   "metadata": {},
   "outputs": [
    {
     "data": {
      "text/latex": [
       "$\\displaystyle \\frac{e^{- x}}{\\left(1 + e^{- x}\\right)^{2}}$"
      ],
      "text/plain": [
       "exp(-x)/(1 + exp(-x))**2"
      ]
     },
     "metadata": {},
     "output_type": "display_data"
    },
    {
     "data": {
      "text/markdown": [
       "$\\sigma$'(x = 0) = 1/4"
      ],
      "text/plain": [
       "<IPython.core.display.Markdown object>"
      ]
     },
     "metadata": {},
     "output_type": "display_data"
    },
    {
     "data": {
      "text/markdown": [
       "$\\sigma$'(x = 2) = exp(-2)/(exp(-2) + 1)**2"
      ],
      "text/plain": [
       "<IPython.core.display.Markdown object>"
      ]
     },
     "metadata": {},
     "output_type": "display_data"
    },
    {
     "data": {
      "text/markdown": [
       "$\\sigma$'(x = -2) = exp(2)/(1 + exp(2))**2"
      ],
      "text/plain": [
       "<IPython.core.display.Markdown object>"
      ]
     },
     "metadata": {},
     "output_type": "display_data"
    },
    {
     "data": {
      "text/latex": [
       "$\\displaystyle \\frac{e^{- x}}{\\left(1 + e^{- x}\\right)^{2}}$"
      ],
      "text/plain": [
       "exp(-x)/(1 + exp(-x))**2"
      ]
     },
     "metadata": {},
     "output_type": "display_data"
    }
   ],
   "source": [
    "# Obtener sigma'(x) \"manualmente\".\n",
    "sigma_prima_x = sp.exp(-x) / ((1 + sp.exp(-x)) ** 2)\n",
    "display(sigma_prima_x)\n",
    "\n",
    "# Evaluar sigma'(x) en x = 0, x = 2 y x = -2\n",
    "eval_x = [0, 2, -2]\n",
    "for x_i in eval_x:\n",
    "    resultado_eval_sigma_prima_x = sigma_prima_x.subs(x, x_i)\n",
    "    display(Markdown(f\"$\\sigma$'(x = {x_i}) = {resultado_eval_sigma_prima_x}\"))\n",
    "\n",
    "# Obtener sigma'(x) usando SymPy.\n",
    "sigma_x = 1 / (1 + sp.exp(-x))\n",
    "sigma_prima_x_sympy = sp.diff(sigma_x, x)\n",
    "display(sigma_prima_x_sympy)"
   ]
  },
  {
   "cell_type": "markdown",
   "metadata": {},
   "source": [
    "### 📘 **Ejercicio 7 Programación Lineal**\n",
    "\n",
    "En este ejercicio resolverás un problema de optimización lineal utilizando dos métodos:\n",
    "- **Método Numérico**: Usando `scipy.optimize.linprog`.\n",
    "- **Método Visual**: Representando gráficamente la región factible.\n",
    "\n",
    "---\n",
    "## 🔹 **Planteamiento del Problema**\n",
    "Una empresa fabrica **cajas grandes** y **cajas pequeñas**. Cada caja grande genera **$7 de ganancia** y cada caja pequeña **$4**. \n",
    "\n",
    "### **Restricciones:**\n",
    "- **Disponibilidad de cartón**: Se tienen **50 unidades de cartón**.\n",
    "- **Disponibilidad de mano de obra**: Hay **30 horas disponibles**.\n",
    "\n",
    "Cada tipo de caja requiere los siguientes recursos:\n",
    "- **Caja grande**: 5 unidades de cartón y 2 horas de trabajo.\n",
    "- **Caja pequeña**: 3 unidades de cartón y 4 horas de trabajo.\n",
    "\n",
    "📌 **Objetivo**: Determinar cuántas **cajas grandes** y **cajas pequeñas** deben producirse para **maximizar la ganancia**.\n",
    "\n",
    "Resuelve el ejercicio en las celdas markdown/python que sean necesarias a partir de la siguiente:"
   ]
  },
  {
   "cell_type": "markdown",
   "metadata": {},
   "source": [
    "### Solución\n",
    "\n",
    "Sean $x_1$ y $x_2$ los números de cajas grandes y pequeñas que serán fabricados, respectivamente. $x_1$ y $x_2$ son las variables de decisión en la optimización lineal.\n",
    "\n",
    "El objetivo del problema es maximizar la función ganancia:\n",
    "\n",
    "$$\n",
    "\\max\\quad 7x_1 + 4x_2\n",
    "$$\n",
    "\n",
    "Sujeta a las dos siguientes restricciones lineales para las unidades de cartón y horas laborales disponibles, en forma de desigualdades:\n",
    "\n",
    "$$\n",
    "5x_1 + 3x_2 \\leq 50\n",
    "$$\n",
    "\n",
    "y\n",
    "\n",
    "$$\n",
    "2x_1 + 4x_2 \\leq 30\n",
    "$$\n",
    "\n",
    "Además, los valores de $x_1$ y $x_2$ deben ser no-negativos para tener sentido en el contexto del problema."
   ]
  },
  {
   "cell_type": "code",
   "execution_count": 88,
   "metadata": {},
   "outputs": [
    {
     "data": {
      "text/markdown": [
       "g(x_1, x_2) maxima en (10.0, 0.0) con $70.00"
      ],
      "text/plain": [
       "<IPython.core.display.Markdown object>"
      ]
     },
     "metadata": {},
     "output_type": "display_data"
    }
   ],
   "source": [
    "# `linprog` requiere coeficientes negativos para maximizar la función objetiva.\n",
    "precios_unitarios = [-7, -4]\n",
    "\n",
    "# Especificar los coeficientes de las desigualdades lineales de restricción.\n",
    "unidades_carton = [5, 3]\n",
    "horas_labor = [2, 4]\n",
    "A = [unidades_carton, horas_labor]\n",
    "\n",
    "# El vector de desigualdad de restricción.\n",
    "restricciones = [50, 30]\n",
    "\n",
    "# Los límites aceptados para las soluciones en x_1 y x_2. Ambos deben ser no-negativos.\n",
    "limites_x = [(0, None), (0, None)]\n",
    "\n",
    "# Resolver la optimización lineal usando SciPy. \"highs\" permite que SciPy elija \n",
    "# entre el método simplex y de punto interior automáticamente.\n",
    "resultado = linprog(\n",
    "    precios_unitarios, \n",
    "    A_ub=A, \n",
    "    b_ub=restricciones, \n",
    "    bounds=limites_x, \n",
    "    method=\"highs\"\n",
    ")\n",
    "\n",
    "# Mostrar los valores óptimos de las variables de decisión y el valor máximo de la ganancia.\n",
    "solucion_x1 = resultado.x[0]\n",
    "solucion_x2 = resultado.x[1]\n",
    "ganancia_maxima = -resultado.fun\n",
    "\n",
    "display(Markdown(f\"g(x_1, x_2) maxima en ({solucion_x1}, {solucion_x2}) con ${ganancia_maxima:.2f}\"))"
   ]
  },
  {
   "cell_type": "code",
   "execution_count": 89,
   "metadata": {},
   "outputs": [
    {
     "data": {
      "image/png": "[encoded data removed]",
      "text/plain": [
       "<Figure size 800x600 with 1 Axes>"
      ]
     },
     "metadata": {},
     "output_type": "display_data"
    }
   ],
   "source": [
    "# Graficar x_2 (número de cajas pequeñas) en función de x_1. \n",
    "x1_range = np.linspace(0, 10, 100)\n",
    "\n",
    "plt.figure(figsize=(8, 6))\n",
    "\n",
    "# Despeje de las desigualdades lineales de restricción. Forman rectas que delimitan la región factible.\n",
    "restriccion_carton = (50 - 5 * x1_range) / 3\n",
    "restriccion_trabajo = (30 - 2 * x1_range) / 4\n",
    "\n",
    "# Dibujar las restricciones.\n",
    "plt.plot(x1_range, restriccion_carton, label=r\"Cartón: $3x_1 + 5x_2 \\leq 50$\", color=\"orange\")\n",
    "plt.plot(x1_range, restriccion_trabajo, label=r\"Horas de trabajo: $2x_1 + 4x_2 \\leq 30$\", color=\"blue\")\n",
    "\n",
    "# Llenar la región factible.\n",
    "plt.fill_between(x1_vals, np.maximum(0, np.minimum(restriccion_carton, restriccion_trabajo)), color=\"gray\", alpha=0.3)\n",
    "\n",
    "# Mostrar la solución óptima.\n",
    "plt.scatter(solucion_x1, solucion_x2, color=\"red\", zorder=3, label=\"Solución óptima\")\n",
    "\n",
    "plt.xlabel(r\"Cajas grandes ($x_1$) [unidades]\")\n",
    "plt.ylabel(r\"Cajas pequeñas ($x_2$) [unidades]\")\n",
    "plt.title(\"Producción de cajas dos tamaños para maximizar la ganancia\")\n",
    "plt.axhline(0, color=\"black\", linewidth=1)\n",
    "plt.axvline(0, color=\"black\", linewidth=1)\n",
    "plt.legend()\n",
    "plt.grid()\n",
    "\n",
    "plt.show()"
   ]
  },
  {
   "cell_type": "markdown",
   "metadata": {},
   "source": [
    "## 🔥 **Preguntas para Reflexión**\n",
    "1️⃣ **Método Numérico:** ¿Cuáles son los valores óptimos de producción obtenidos con `linprog`? ¿Cómo se interpreta la ganancia máxima?\n",
    "\n",
    "`linprog` resultó en $x_1 = 10$ y $x_2 = 0$. Es decir, para maximizar la función de ganancia bajo las restricciones dadas, deben fabricarse 10 cajas grandes y 0 cajas pequeñas. Con esta combinación, la ganancia es máxima con $70.00, mientras que las horas de trabajo y el cartón usado cumplen ambas inecuaciones de restricción.\n",
    "\n",
    "2️⃣ **Método Visual:** ¿Coincide la solución gráfica con la obtenida numéricamente? ¿Cómo podrías verificar la solución visualmente?\n",
    "\n",
    "Ambas soluciones coinciden en el punto $(10, 0)$. Este punto está justo dentro de la región factible y, al evaluar la función en él, produce un valor para la ganancia que es mayor al de cualquier otro punto de la región factible. Otra forma simple de verificar visualmente la solución es trazar una gráfica 3-D de la función ganancia según $x_1$ y $x_2$ para observar que el punto solución sea verdaderamente un máximo o mínimo, pero hacerlo se vuelve difícil cuando hay más variables.\n",
    "\n",
    "3️⃣ **Interpretación:** ¿Cómo impactarían cambios en la disponibilidad de cartón o mano de obra en la solución?\n",
    "\n",
    "Cambian las dos rectas que delimitan el área de la región factible. Si la disponibilidad de cartón o mano de obra disminuye, también disminuye el área disponible en la región factible y, por lo tanto, la solución óptima suele cambiar de ubicación y resultar en un valor menor. Cuando la disponibilidad aumenta, el área factible aumenta, y soluciones con mayores ganancias se hacen posibles.\n",
    "\n",
    "4️⃣ **Extensión:** ¿Cómo modificarías el modelo si la empresa decide producir un tercer tipo de caja con nuevas restricciones?\n",
    "\n",
    "Primero, es necesario introducir una tercera variable. Por ejemplo, $x_3$ puede representar el número de unidades a producir del tercer tipo de caja. Con $x_3$, ver cómo se introduce en la función a optimizar y en las restricciones. En este caso, hace falta conocer el coeficiente (precio de venta unitario) de $x_3$ en la función a optimizar, así como las unidades de cartón y horas de trabajo requeridas para producir una caja del tercer tipo."
   ]
  },
  {
   "cell_type": "markdown",
   "metadata": {},
   "source": [
    "### 📘 **Ejercicio 8 (Avanzado de Programación Lineal)**\n",
    "\n",
    "En este ejercicio resolverás un problema complejo de optimización lineal utilizando:\n",
    "- **Método Numérico**: `scipy.optimize.linprog`.\n",
    "\n",
    "El método visual no será necesario porque son 3 variables. \n",
    "\n",
    "---\n",
    "## 🔹 **Planteamiento del Problema**\n",
    "Una empresa fabrica **tres tipos de productos**: **A, B y C**. \n",
    "Cada producto genera una ganancia distinta:\n",
    "- **Producto A**: $10 de ganancia\n",
    "- **Producto B**: $15 de ganancia\n",
    "- **Producto C**: $25 de ganancia\n",
    "\n",
    "### **Restricciones:**\n",
    "- **Disponibilidad de materia prima**: 80 unidades disponibles.\n",
    "- **Disponibilidad de horas de trabajo**: 100 horas disponibles.\n",
    "- **Capacidad de producción diaria**: Máximo 30 unidades en total.\n",
    "\n",
    "Cada producto requiere los siguientes recursos:\n",
    "| Producto | Materia Prima | Horas de Trabajo |\n",
    "|----------|--------------|------------------|\n",
    "| A        | 4            | 5                |\n",
    "| B        | 6            | 3                |\n",
    "| C        | 5            | 8                |\n",
    "\n",
    "📌 **Objetivo**: Determinar cuántas unidades de cada producto deben producirse para **maximizar la ganancia**.\n",
    "\n",
    "Resuelve el ejercicio en las celdas markdown/python que sean necesarias a partir de la siguiente:"
   ]
  },
  {
   "cell_type": "markdown",
   "metadata": {},
   "source": [
    "### Solución\n",
    "\n",
    "Sean $x_1$, $x_2$ y $x_3$ la cantidad producida del producto A, B y C, respectivamente. $x_1$, $x_2$ y $x_3$ son las variables de decisión en la optimización lineal.\n",
    "\n",
    "El objetivo del problema nuevamente es maximizar la función ganancia:\n",
    "\n",
    "$$\n",
    "\\max\\quad 10x_1 + 15x_2 + 25x_3\n",
    "$$\n",
    "\n",
    "Sujeta a las tres siguientes restricciones lineales para las unidades de materia prima, las horas laborales disponibles y la capacidad de producción diaria, en forma de inecuaciones:\n",
    "\n",
    "$$\n",
    "4x_1 + 6x_2 + 5x_3 \\leq 80\n",
    "$$\n",
    "\n",
    "$$\n",
    "5x_1 + 3x_2 + 8x_3 \\leq 100\n",
    "$$\n",
    "\n",
    "$$\n",
    "x_1 + x_2 + x_3 \\leq 30\n",
    "$$\n",
    "\n",
    "Además, los valores de $x_1$, $x_2$ y $x_3$ deben ser no-negativos para tener sentido en el contexto del problema."
   ]
  },
  {
   "cell_type": "code",
   "execution_count": 90,
   "metadata": {},
   "outputs": [
    {
     "data": {
      "text/plain": [
       "'max(g(a, b, c)) = 336.3636363636364'"
      ]
     },
     "metadata": {},
     "output_type": "display_data"
    },
    {
     "data": {
      "text/plain": [
       "'Producción: 0.0 A, 4.242424242424242 B, 10.90909090909091 C'"
      ]
     },
     "metadata": {},
     "output_type": "display_data"
    }
   ],
   "source": [
    "# El vector de las inecuaciones de restricción.\n",
    "materia_prima_disponible = 80\n",
    "horas_trabajo_disponibles = 100\n",
    "max_unidades_diarias = 30\n",
    "\n",
    "# Coeficientes de la función objetiva a optimizar.\n",
    "costos_unitarios = [-10, -15, -25]\n",
    "\n",
    "# Matriz con los coeficientes de las inecuaciones de restricción para x1, x2 y x3.\n",
    "A = [\n",
    "    [4, 6, 5],\n",
    "    [5, 3, 8],\n",
    "    [1, 1, 1],\n",
    "]\n",
    "\n",
    "restricciones = [\n",
    "    materia_prima_disponible, \n",
    "    horas_trabajo_disponibles, \n",
    "    max_unidades_diarias,\n",
    "]\n",
    "\n",
    "# Límites de no-negatividad para las variables de decisión.\n",
    "limites_x = [(0, None), (0, None), (0, None)]\n",
    "\n",
    "# Usar linprog para resolver la optimización lineal.\n",
    "resultado = linprog(\n",
    "    costos_unitarios, \n",
    "    A_ub=A, \n",
    "    b_ub=restricciones, \n",
    "    bounds=limites_x, \n",
    "    method=\"highs\"\n",
    ")\n",
    "\n",
    "# Mostrar los valores de las variables de decisión que producen el valor máximo de la función ganancia.\n",
    "unidades_a = resultado.x[0]\n",
    "unidades_b = resultado.x[1]\n",
    "unidades_c = resultado.x[2]\n",
    "\n",
    "ganancia_maxima = -resultado.fun\n",
    "\n",
    "display(f\"max(g(a, b, c)) = {ganancia_maxima}\")\n",
    "display(f\"Producción: {unidades_a} A, {unidades_b} B, {unidades_c} C\")"
   ]
  },
  {
   "cell_type": "markdown",
   "metadata": {},
   "source": [
    "## 🔥 **Preguntas para Reflexión**\n",
    "1️⃣ **Método Numérico:** ¿Cuáles son los valores óptimos de producción obtenidos con `linprog`? ¿Cómo se interpreta la ganancia máxima?\n",
    "\n",
    "Los valores óptimos son `A` = 0, `B` = 4.2424 y `C` = 10.909 unidades producidas. Si sólo se considera la producción de unidades completas, podrían aproximarse `B` ~ 4 y `C` ~ 11. Con esto, la ganancia sería ~ $335.00, lo cuál es razonablemente cercano al máximo global.\n",
    "\n",
    "Para maximizar la ganancia bajo las restricciones dadas, se deben producir muchas unidades del producto C, algunas del producto B y ninguna del producto A.\n",
    "\n",
    "2️⃣ **Interpretación:** ¿Cómo cambiaría la solución si la disponibilidad de materia prima aumenta a 100 unidades?\n",
    "\n",
    "La ganancia máxima aumentaría, porque el volumen de la región factible también aumenta. Puede que la solución tenga un incremento de unidades del producto B, que se ve limitado por la materia prima que requiere. Incluso podría disminuir el número de unidades del producto C por su consumo intensivo de horas de trabajo. Como la restricción de horas de trabajo no aumenta, la solución tiende a \"aprovechar\" las unidades de materia prima adicionales.\n",
    "\n",
    "4️⃣ **Extensión:** Si agregáramos restricciones de almacenamiento o demanda mínima de productos, ¿cómo modificarías el modelo?\n",
    "\n",
    "El primer paso es expresar las restricciones en forma de inecuaciones lineales, en términos de las variables de decisión $x_1$, $x_2$ y $x_3$. Después, se separan las inecuaciones en su LHS y RHS. El LHS se agrega en forma de filas a la matriz de restricciones de desigualdad **$A$** (variable `A`), mientras que el RHS se agrega a los elementos del vector de restricciones de desigualdad, **$b$** (la variable `restricciones`). Finalmente, puede volverse a ejecutar la optimización lineal para encontrar un nuevo punto máximo, bajo las nuevas restricciones.\n",
    "\n",
    "Las nuevas restricciones agregan nuevas rectas delimitantes en la visualización. Por lo general, estas rectas cortarán una sección de la región factible. Esto significa que reducen el espacio disponible para soluciones. Si una de las secciones \"dejadas fuera\" de la región factible contenía la solución óptima, la optimización cambiará también la solución al problema.\n",
    "\n",
    "A veces, las rectas adicionales pueden no cortar ninguna parte de la región factible. En este caso, la nueva restricción no tiene efecto sobre el estado del problema y la solución óptima no cambiará. Si se \"relajan\" una o varias de las demás restricciones, las restricciones nuevas podrían volver a tener efecto en la región factible."
   ]
  }
 ],
 "metadata": {
  "kernelspec": {
   "display_name": ".venv.nosync",
   "language": "python",
   "name": "python3"
  },
  "language_info": {
   "codemirror_mode": {
    "name": "ipython",
    "version": 3
   },
   "file_extension": ".py",
   "mimetype": "text/x-python",
   "name": "python",
   "nbconvert_exporter": "python",
   "pygments_lexer": "ipython3",
   "version": "3.11.5"
  }
 },
 "nbformat": 4,
 "nbformat_minor": 2
}
